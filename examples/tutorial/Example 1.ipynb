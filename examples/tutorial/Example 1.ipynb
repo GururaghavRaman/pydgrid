{
 "cells": [
  {
   "cell_type": "markdown",
   "metadata": {},
   "source": [
    "## Import modules"
   ]
  },
  {
   "cell_type": "code",
   "execution_count": 13,
   "metadata": {},
   "outputs": [],
   "source": [
    "import numpy as np\n",
    "from pydgrid import grid\n",
    "from pydgrid.plot_bokeh import plot_results"
   ]
  },
  {
   "cell_type": "markdown",
   "metadata": {},
   "source": [
    "## Define or write grid parameters"
   ]
  },
  {
   "cell_type": "code",
   "execution_count": 2,
   "metadata": {
    "collapsed": true
   },
   "outputs": [],
   "source": [
    "data = {     \n",
    "        \"buses\":[\n",
    "                 {\"bus\": \"B1\",  \"pos_x\":   0, \"pos_y\":   0, \"units\": \"m\", \"U_kV\":20.0},\n",
    "                 {\"bus\": \"B2\",  \"pos_x\":  10, \"pos_y\":   0, \"units\": \"m\", \"U_kV\":0.4},\n",
    "                 {\"bus\": \"B3\",  \"pos_x\": 100, \"pos_y\":  0, \"units\": \"m\", \"U_kV\":0.4}\n",
    "                ],\n",
    "        \"grid_formers\":[\n",
    "                        {\"bus\": \"B1\",\n",
    "                        \"bus_nodes\": [1, 2, 3], \"deg\": [0, -120, -240],\n",
    "                        \"kV\": [11.547, 11.547, 11.547]}\n",
    "                       ],\n",
    "        \"transformers\":[\n",
    "                        {\"bus_j\": \"B1\",  \"bus_k\": \"B2\",  \"S_n_kVA\": 2500.0, \"U_j_kV\":20, \"U_k_kV\":0.42,\n",
    "                         \"R_cc_pu\": 0.01, \"X_cc_pu\":0.04, \"connection\": \"Dyn11\",   \"conductors_j\": 3, \"conductors_k\": 4},\n",
    "                       ],\n",
    "        \"lines\":[\n",
    "                 {\"bus_j\": \"B2\",  \"bus_k\": \"B3\",  \"code\": \"lv_cu_150\", \"m\": 100.0},\n",
    "                ],\n",
    "        \"loads\":[\n",
    "                 {\"bus\": \"B3\" , \"kVA\": 300.0, \"pf\": 0.85,\"type\":\"3P+N\"}\n",
    "                ],\n",
    "        \"shunts\":[\n",
    "                 {\"bus\": \"B2\" , \"R\": 0.001, \"X\": 0.0, \"bus_nodes\": [4,0]}\n",
    "                 ],\n",
    "        \"line_codes\":\n",
    "            {\"lv_cu_150\":  {\"Rph\":0.167,\"Xph\":0.08, \"Rn\":0.167,   \"Xn\": 0.08}\n",
    "            }\n",
    "       }  "
   ]
  },
  {
   "cell_type": "markdown",
   "metadata": {},
   "source": [
    "## Generate a grid instance"
   ]
  },
  {
   "cell_type": "code",
   "execution_count": 3,
   "metadata": {
    "collapsed": true
   },
   "outputs": [],
   "source": [
    "grid_1 = grid()"
   ]
  },
  {
   "cell_type": "markdown",
   "metadata": {},
   "source": [
    "## Read grid parameters"
   ]
  },
  {
   "cell_type": "code",
   "execution_count": 4,
   "metadata": {
    "collapsed": true
   },
   "outputs": [],
   "source": [
    "grid_1.read(data)"
   ]
  },
  {
   "cell_type": "markdown",
   "metadata": {},
   "source": [
    "## Execute power flow"
   ]
  },
  {
   "cell_type": "code",
   "execution_count": 5,
   "metadata": {
    "collapsed": true
   },
   "outputs": [],
   "source": [
    "grid_1.pf()"
   ]
  },
  {
   "cell_type": "markdown",
   "metadata": {
    "collapsed": true
   },
   "source": [
    "## Post process results"
   ]
  },
  {
   "cell_type": "code",
   "execution_count": 6,
   "metadata": {
    "collapsed": true
   },
   "outputs": [],
   "source": [
    "grid_1.get_v()\n",
    "grid_1.get_i()"
   ]
  },
  {
   "cell_type": "markdown",
   "metadata": {
    "collapsed": true
   },
   "source": [
    "## Plot results"
   ]
  },
  {
   "cell_type": "code",
   "execution_count": 7,
   "metadata": {},
   "outputs": [],
   "source": [
    "from pydgrid.plot_bokeh import plot_results"
   ]
  },
  {
   "cell_type": "code",
   "execution_count": 8,
   "metadata": {},
   "outputs": [
    {
     "data": {
      "text/html": [
       "\n",
       "\n",
       "    <div class=\"bk-root\">\n",
       "        <div class=\"bk-plotdiv\" id=\"48d2a4db-f702-4691-991b-ffbc2a477c2a\"></div>\n",
       "    </div>\n",
       "<script type=\"text/javascript\">\n",
       "  \n",
       "  (function(root) {\n",
       "    function now() {\n",
       "      return new Date();\n",
       "    }\n",
       "  \n",
       "    var force = false;\n",
       "  \n",
       "    if (typeof (root._bokeh_onload_callbacks) === \"undefined\" || force === true) {\n",
       "      root._bokeh_onload_callbacks = [];\n",
       "      root._bokeh_is_loading = undefined;\n",
       "    }\n",
       "  \n",
       "  \n",
       "    \n",
       "    if (typeof (root._bokeh_timeout) === \"undefined\" || force === true) {\n",
       "      root._bokeh_timeout = Date.now() + 0;\n",
       "      root._bokeh_failed_load = false;\n",
       "    }\n",
       "  \n",
       "    var NB_LOAD_WARNING = {'data': {'text/html':\n",
       "       \"<div style='background-color: #fdd'>\\n\"+\n",
       "       \"<p>\\n\"+\n",
       "       \"BokehJS does not appear to have successfully loaded. If loading BokehJS from CDN, this \\n\"+\n",
       "       \"may be due to a slow or bad network connection. Possible fixes:\\n\"+\n",
       "       \"</p>\\n\"+\n",
       "       \"<ul>\\n\"+\n",
       "       \"<li>re-rerun `output_notebook()` to attempt to load from CDN again, or</li>\\n\"+\n",
       "       \"<li>use INLINE resources instead, as so:</li>\\n\"+\n",
       "       \"</ul>\\n\"+\n",
       "       \"<code>\\n\"+\n",
       "       \"from bokeh.resources import INLINE\\n\"+\n",
       "       \"output_notebook(resources=INLINE)\\n\"+\n",
       "       \"</code>\\n\"+\n",
       "       \"</div>\"}};\n",
       "  \n",
       "    function display_loaded() {\n",
       "      if (root.Bokeh !== undefined) {\n",
       "        var el = document.getElementById(\"48d2a4db-f702-4691-991b-ffbc2a477c2a\");\n",
       "        if (el != null) {\n",
       "          el.textContent = \"BokehJS \" + Bokeh.version + \" successfully loaded.\";\n",
       "        }\n",
       "      } else if (Date.now() < root._bokeh_timeout) {\n",
       "        setTimeout(display_loaded, 100)\n",
       "      }\n",
       "    }\n",
       "  \n",
       "  \n",
       "    function run_callbacks() {\n",
       "      try {\n",
       "        root._bokeh_onload_callbacks.forEach(function(callback) { callback() });\n",
       "      }\n",
       "      finally {\n",
       "        delete root._bokeh_onload_callbacks\n",
       "      }\n",
       "      console.info(\"Bokeh: all callbacks have finished\");\n",
       "    }\n",
       "  \n",
       "    function load_libs(js_urls, callback) {\n",
       "      root._bokeh_onload_callbacks.push(callback);\n",
       "      if (root._bokeh_is_loading > 0) {\n",
       "        console.log(\"Bokeh: BokehJS is being loaded, scheduling callback at\", now());\n",
       "        return null;\n",
       "      }\n",
       "      if (js_urls == null || js_urls.length === 0) {\n",
       "        run_callbacks();\n",
       "        return null;\n",
       "      }\n",
       "      console.log(\"Bokeh: BokehJS not loaded, scheduling load and callback at\", now());\n",
       "      root._bokeh_is_loading = js_urls.length;\n",
       "      for (var i = 0; i < js_urls.length; i++) {\n",
       "        var url = js_urls[i];\n",
       "        var s = document.createElement('script');\n",
       "        s.src = url;\n",
       "        s.async = false;\n",
       "        s.onreadystatechange = s.onload = function() {\n",
       "          root._bokeh_is_loading--;\n",
       "          if (root._bokeh_is_loading === 0) {\n",
       "            console.log(\"Bokeh: all BokehJS libraries loaded\");\n",
       "            run_callbacks()\n",
       "          }\n",
       "        };\n",
       "        s.onerror = function() {\n",
       "          console.warn(\"failed to load library \" + url);\n",
       "        };\n",
       "        console.log(\"Bokeh: injecting script tag for BokehJS library: \", url);\n",
       "        document.getElementsByTagName(\"head\")[0].appendChild(s);\n",
       "      }\n",
       "    };var element = document.getElementById(\"48d2a4db-f702-4691-991b-ffbc2a477c2a\");\n",
       "    if (element == null) {\n",
       "      console.log(\"Bokeh: ERROR: autoload.js configured with elementid '48d2a4db-f702-4691-991b-ffbc2a477c2a' but no matching script tag was found. \")\n",
       "      return false;\n",
       "    }\n",
       "  \n",
       "    var js_urls = [];\n",
       "  \n",
       "    var inline_js = [\n",
       "      function(Bokeh) {\n",
       "        (function() {\n",
       "          var fn = function() {\n",
       "            var docs_json = {\"fb58e3f1-6db6-4c0a-a5c9-91b732f20bf1\":{\"roots\":{\"references\":[{\"attributes\":{},\"id\":\"8dfb2384-e258-49a7-9ab2-3be75dbcb6cc\",\"type\":\"BasicTickFormatter\"},{\"attributes\":{\"line_alpha\":{\"value\":0.5},\"line_color\":{\"value\":\"red\"},\"line_width\":{\"value\":5},\"xs\":{\"field\":\"x_s\"},\"ys\":{\"field\":\"y_s\"}},\"id\":\"58e6f66e-f74f-434e-abd3-75fead972bb2\",\"type\":\"MultiLine\"},{\"attributes\":{},\"id\":\"7a35c579-8ae6-476e-a80d-c3823d095da4\",\"type\":\"ResetTool\"},{\"attributes\":{},\"id\":\"e4f218b9-ec58-4738-b57d-82f6bc61fb04\",\"type\":\"BasicTickFormatter\"},{\"attributes\":{},\"id\":\"5f49cf91-b7c5-42ac-8463-2c63017d00a6\",\"type\":\"LinearScale\"},{\"attributes\":{\"data_source\":{\"id\":\"aa2a0999-b11c-4fab-b979-aee992c6c5bc\",\"type\":\"ColumnDataSource\"},\"glyph\":{\"id\":\"ab5ec29a-97ee-4949-9352-3b8ec57fd91b\",\"type\":\"MultiLine\"},\"hover_glyph\":null,\"muted_glyph\":null,\"nonselection_glyph\":{\"id\":\"01857384-cf2e-4fb5-987c-e5e0fe230300\",\"type\":\"MultiLine\"},\"selection_glyph\":null,\"view\":{\"id\":\"3b38b8f2-00a2-426e-a12e-ebc3fe7c81c6\",\"type\":\"CDSView\"}},\"id\":\"bb0aea80-cfaa-4bd5-8f04-796b763c37d4\",\"type\":\"GlyphRenderer\"},{\"attributes\":{\"callback\":null},\"id\":\"7eda1925-795d-494f-a017-dc9a19ba795f\",\"type\":\"DataRange1d\"},{\"attributes\":{\"below\":[{\"id\":\"3109c2e2-7dd4-48b1-921f-fb9591b916c1\",\"type\":\"LinearAxis\"}],\"left\":[{\"id\":\"eab0f5af-5136-419c-b99d-ba15bc711345\",\"type\":\"LinearAxis\"}],\"plot_height\":400,\"renderers\":[{\"id\":\"3109c2e2-7dd4-48b1-921f-fb9591b916c1\",\"type\":\"LinearAxis\"},{\"id\":\"8fe01ec5-11c1-4997-a849-148acae3c82d\",\"type\":\"Grid\"},{\"id\":\"eab0f5af-5136-419c-b99d-ba15bc711345\",\"type\":\"LinearAxis\"},{\"id\":\"a5084dac-71d8-4f6d-9299-10fede380e45\",\"type\":\"Grid\"},{\"id\":\"35b7d05b-a44f-4f4d-be70-2fe995c757c5\",\"type\":\"BoxAnnotation\"},{\"id\":\"bb0aea80-cfaa-4bd5-8f04-796b763c37d4\",\"type\":\"GlyphRenderer\"},{\"id\":\"277ad1dc-702a-4f7c-b183-36dd651de20a\",\"type\":\"GlyphRenderer\"},{\"id\":\"e22b3476-c82b-4c24-8ef8-a7042ead6087\",\"type\":\"GlyphRenderer\"}],\"title\":{\"id\":\"ffa73a6b-5628-476e-a3cb-b77c86f30856\",\"type\":\"Title\"},\"toolbar\":{\"id\":\"a4fc17a8-5af2-469e-ac37-d1e57ff32aae\",\"type\":\"Toolbar\"},\"x_range\":{\"id\":\"dd42194d-e179-412e-8dee-30f27d9b8a4f\",\"type\":\"DataRange1d\"},\"x_scale\":{\"id\":\"c494a705-0ea1-4de2-801b-f236fbd393fe\",\"type\":\"LinearScale\"},\"y_range\":{\"id\":\"7eda1925-795d-494f-a017-dc9a19ba795f\",\"type\":\"DataRange1d\"},\"y_scale\":{\"id\":\"5f49cf91-b7c5-42ac-8463-2c63017d00a6\",\"type\":\"LinearScale\"}},\"id\":\"809fbb4a-047d-43ea-85f5-8e7fa7231d70\",\"subtype\":\"Figure\",\"type\":\"Plot\"},{\"attributes\":{},\"id\":\"8e21e8b9-c7c7-4b15-8de9-e063aa583fd5\",\"type\":\"SaveTool\"},{\"attributes\":{\"callback\":null,\"column_names\":[\"x_s\",\"y_s\",\"trafo_id\",\"i_1a_m\",\"i_1b_m\",\"i_1c_m\",\"i_1n_m\",\"deg_1a\",\"deg_1b\",\"deg_1c\",\"deg_1n\",\"i_2a_m\",\"i_2b_m\",\"i_2c_m\",\"i_2n_m\",\"deg_2a\",\"deg_2b\",\"deg_2c\",\"deg_2n\"],\"data\":{\"deg_1a\":[-31.79131386400389],\"deg_1b\":[-151.7913138640033],\"deg_1c\":[88.20868613599542],\"deg_1n\":[-45.0],\"deg_2a\":[118.20868613599673],\"deg_2b\":[-1.7913138640042336],\"deg_2c\":[-121.79131386400455],\"deg_2n\":[33.690067525979785],\"i_1a_m\":[8.98520340900167],\"i_1b_m\":[8.985203409001715],\"i_1c_m\":[8.985203409001661],\"i_1n_m\":[1.6077746776921858e-13],\"i_2a_m\":[427.86682900008094],\"i_2b_m\":[427.86682900007213],\"i_2c_m\":[427.866829000083],\"i_2n_m\":[2.6233838256040975e-11],\"trafo_id\":[\"B1-B2\"],\"x_s\":[[0,10]],\"y_s\":[[0,0]]}},\"id\":\"aa2a0999-b11c-4fab-b979-aee992c6c5bc\",\"type\":\"ColumnDataSource\"},{\"attributes\":{\"overlay\":{\"id\":\"35b7d05b-a44f-4f4d-be70-2fe995c757c5\",\"type\":\"BoxAnnotation\"}},\"id\":\"1f9cb7f4-bd9c-4493-9d8b-2fb307895e7a\",\"type\":\"BoxZoomTool\"},{\"attributes\":{},\"id\":\"943c831e-aa6b-4118-aada-dabe8054a144\",\"type\":\"HelpTool\"},{\"attributes\":{},\"id\":\"c494a705-0ea1-4de2-801b-f236fbd393fe\",\"type\":\"LinearScale\"},{\"attributes\":{\"data_source\":{\"id\":\"e031ecb4-87a0-42f7-aebf-23519ab3bcae\",\"type\":\"ColumnDataSource\"},\"glyph\":{\"id\":\"58e6f66e-f74f-434e-abd3-75fead972bb2\",\"type\":\"MultiLine\"},\"hover_glyph\":null,\"muted_glyph\":null,\"nonselection_glyph\":{\"id\":\"c9abc38a-50f7-4fbe-b3f3-a4d14f37c567\",\"type\":\"MultiLine\"},\"selection_glyph\":null,\"view\":{\"id\":\"622070dc-c765-41d8-bb68-63d8b4d5cb2c\",\"type\":\"CDSView\"}},\"id\":\"277ad1dc-702a-4f7c-b183-36dd651de20a\",\"type\":\"GlyphRenderer\"},{\"attributes\":{},\"id\":\"5b94c6e6-227b-45d3-9e45-69672b1f5559\",\"type\":\"WheelZoomTool\"},{\"attributes\":{\"callback\":null,\"column_names\":[\"x\",\"y\",\"bus_id\",\"v_an\",\"v_bn\",\"v_cn\",\"v_ng\",\"v_an_pu\",\"v_bn_pu\",\"v_cn_pu\",\"deg_an\",\"deg_bn\",\"deg_cn\",\"deg_ng\",\"v_ab\",\"v_bc\",\"v_ca\",\"p_a\",\"p_b\",\"p_c\",\"q_a\",\"q_b\",\"q_c\",\"p_abc\",\"q_abc\",\"s_radio\",\"s_color\"],\"data\":{\"bus_id\":[\"B1\",\"B2\",\"B3\"],\"deg_an\":[\"0.00\",\"-30.21\",\"-30.00\"],\"deg_bn\":[\"-120.00\",\"-150.21\",\"-150.00\"],\"deg_cn\":[\"120.00\",\"89.79\",\"90.00\"],\"deg_ng\":[\"0.00\",\"90.00\",\"90.00\"],\"p_a\":[\"88.19\",\"0.00\",\"-85.00\"],\"p_abc\":[\"264.56\",\"0.00\",\"-255.00\"],\"p_b\":[\"88.19\",\"-0.00\",\"-85.00\"],\"p_c\":[\"88.19\",\"0.00\",\"-85.00\"],\"q_a\":[\"54.66\",\"-0.00\",\"-52.68\"],\"q_abc\":[\"163.98\",\"0.00\",\"-158.03\"],\"q_b\":[\"54.66\",\"0.00\",\"-52.68\"],\"q_c\":[\"54.66\",\"0.00\",\"-52.68\"],\"s_color\":[\"red\",\"blue\",\"green\"],\"s_radio\":[5.579036039417759,1,5.477224881252728],\"v_ab\":[19999.99067499782,418.4561065246554,404.8106212906803],\"v_an\":[\"11547.00\",\"241.60\",\"233.72\"],\"v_an_pu\":[\"1.0000\",\"1.0461\",\"1.0120\"],\"v_bc\":[19999.990674997825,418.45610652465535,404.8106212906802],\"v_bn\":[\"11547.00\",\"241.60\",\"233.72\"],\"v_bn_pu\":[\"1.0000\",\"1.0461\",\"1.0120\"],\"v_ca\":[19999.99067499783,418.45610652465535,404.8106212906803],\"v_cn\":[\"11547.00\",\"241.60\",\"233.72\"],\"v_cn_pu\":[\"1.0000\",\"1.0461\",\"1.0120\"],\"v_ng\":[\"0.00\",\"0.00\",\"0.00\"],\"x\":[0,10,100],\"y\":[0,0,0]}},\"id\":\"49288b2b-1bb5-41ee-9bd3-ace97fb1239c\",\"type\":\"ColumnDataSource\"},{\"attributes\":{\"data_source\":{\"id\":\"49288b2b-1bb5-41ee-9bd3-ace97fb1239c\",\"type\":\"ColumnDataSource\"},\"glyph\":{\"id\":\"28b52f07-159b-4958-ad8d-094c7f3b10f9\",\"type\":\"Circle\"},\"hover_glyph\":null,\"muted_glyph\":null,\"nonselection_glyph\":{\"id\":\"52868c30-5013-4ab0-8e6e-501a9286171c\",\"type\":\"Circle\"},\"selection_glyph\":null,\"view\":{\"id\":\"4f464424-7e82-4e49-aa98-3ef2f171bf1f\",\"type\":\"CDSView\"}},\"id\":\"e22b3476-c82b-4c24-8ef8-a7042ead6087\",\"type\":\"GlyphRenderer\"},{\"attributes\":{\"source\":{\"id\":\"aa2a0999-b11c-4fab-b979-aee992c6c5bc\",\"type\":\"ColumnDataSource\"}},\"id\":\"3b38b8f2-00a2-426e-a12e-ebc3fe7c81c6\",\"type\":\"CDSView\"},{\"attributes\":{},\"id\":\"8ab8e15c-c1f2-4b39-8e93-b3fc7f3f4b2d\",\"type\":\"PanTool\"},{\"attributes\":{\"fill_alpha\":{\"value\":0.1},\"fill_color\":{\"value\":\"#1f77b4\"},\"line_alpha\":{\"value\":0.1},\"line_color\":{\"value\":\"#1f77b4\"},\"size\":{\"units\":\"screen\",\"value\":15},\"x\":{\"field\":\"x\"},\"y\":{\"field\":\"y\"}},\"id\":\"52868c30-5013-4ab0-8e6e-501a9286171c\",\"type\":\"Circle\"},{\"attributes\":{\"callback\":null,\"column_names\":[\"x_s\",\"y_s\",\"line_id\",\"i_a_m\",\"i_b_m\",\"i_c_m\",\"i_n_m\",\"deg_a\",\"deg_b\",\"deg_c\",\"deg_n\"],\"data\":{\"deg_a\":[-61.79131386400304],\"deg_b\":[178.2086861359971],\"deg_c\":[58.208686135996956],\"deg_n\":[0.0],\"i_a_m\":[427.8668290000757],\"i_b_m\":[427.8668290000736],\"i_c_m\":[427.86682900007173],\"i_n_m\":[0.0],\"line_id\":[\"B2-B3\"],\"x_s\":[[10,100]],\"y_s\":[[0,0]]}},\"id\":\"e031ecb4-87a0-42f7-aebf-23519ab3bcae\",\"type\":\"ColumnDataSource\"},{\"attributes\":{\"bottom_units\":\"screen\",\"fill_alpha\":{\"value\":0.5},\"fill_color\":{\"value\":\"lightgrey\"},\"left_units\":\"screen\",\"level\":\"overlay\",\"line_alpha\":{\"value\":1.0},\"line_color\":{\"value\":\"black\"},\"line_dash\":[4,4],\"line_width\":{\"value\":2},\"plot\":null,\"render_mode\":\"css\",\"right_units\":\"screen\",\"top_units\":\"screen\"},\"id\":\"35b7d05b-a44f-4f4d-be70-2fe995c757c5\",\"type\":\"BoxAnnotation\"},{\"attributes\":{\"dimension\":1,\"plot\":{\"id\":\"809fbb4a-047d-43ea-85f5-8e7fa7231d70\",\"subtype\":\"Figure\",\"type\":\"Plot\"},\"ticker\":{\"id\":\"0ce5524d-21d9-4769-8771-b7919b7b8ab4\",\"type\":\"BasicTicker\"}},\"id\":\"a5084dac-71d8-4f6d-9299-10fede380e45\",\"type\":\"Grid\"},{\"attributes\":{\"active_drag\":\"auto\",\"active_inspect\":\"auto\",\"active_scroll\":\"auto\",\"active_tap\":\"auto\",\"tools\":[{\"id\":\"8ab8e15c-c1f2-4b39-8e93-b3fc7f3f4b2d\",\"type\":\"PanTool\"},{\"id\":\"5b94c6e6-227b-45d3-9e45-69672b1f5559\",\"type\":\"WheelZoomTool\"},{\"id\":\"1f9cb7f4-bd9c-4493-9d8b-2fb307895e7a\",\"type\":\"BoxZoomTool\"},{\"id\":\"8e21e8b9-c7c7-4b15-8de9-e063aa583fd5\",\"type\":\"SaveTool\"},{\"id\":\"7a35c579-8ae6-476e-a80d-c3823d095da4\",\"type\":\"ResetTool\"},{\"id\":\"943c831e-aa6b-4118-aada-dabe8054a144\",\"type\":\"HelpTool\"},{\"id\":\"2bbbadc1-7c08-4d66-9652-00410f03439f\",\"type\":\"HoverTool\"},{\"id\":\"b7395b71-dd46-460f-a3ee-abc8cc53219b\",\"type\":\"HoverTool\"},{\"id\":\"0574ddeb-f6f5-4f31-84eb-32f785fc6d6a\",\"type\":\"HoverTool\"}]},\"id\":\"a4fc17a8-5af2-469e-ac37-d1e57ff32aae\",\"type\":\"Toolbar\"},{\"attributes\":{\"source\":{\"id\":\"49288b2b-1bb5-41ee-9bd3-ace97fb1239c\",\"type\":\"ColumnDataSource\"}},\"id\":\"4f464424-7e82-4e49-aa98-3ef2f171bf1f\",\"type\":\"CDSView\"},{\"attributes\":{},\"id\":\"0ce5524d-21d9-4769-8771-b7919b7b8ab4\",\"type\":\"BasicTicker\"},{\"attributes\":{\"fill_alpha\":{\"value\":0.5},\"fill_color\":{\"value\":\"navy\"},\"line_alpha\":{\"value\":0.5},\"line_color\":{\"value\":\"navy\"},\"size\":{\"units\":\"screen\",\"value\":15},\"x\":{\"field\":\"x\"},\"y\":{\"field\":\"y\"}},\"id\":\"28b52f07-159b-4958-ad8d-094c7f3b10f9\",\"type\":\"Circle\"},{\"attributes\":{\"formatter\":{\"id\":\"8dfb2384-e258-49a7-9ab2-3be75dbcb6cc\",\"type\":\"BasicTickFormatter\"},\"plot\":{\"id\":\"809fbb4a-047d-43ea-85f5-8e7fa7231d70\",\"subtype\":\"Figure\",\"type\":\"Plot\"},\"ticker\":{\"id\":\"0ce5524d-21d9-4769-8771-b7919b7b8ab4\",\"type\":\"BasicTicker\"}},\"id\":\"eab0f5af-5136-419c-b99d-ba15bc711345\",\"type\":\"LinearAxis\"},{\"attributes\":{\"line_alpha\":{\"value\":0.1},\"line_color\":{\"value\":\"#1f77b4\"},\"line_width\":{\"value\":5},\"xs\":{\"field\":\"x_s\"},\"ys\":{\"field\":\"y_s\"}},\"id\":\"01857384-cf2e-4fb5-987c-e5e0fe230300\",\"type\":\"MultiLine\"},{\"attributes\":{\"callback\":null},\"id\":\"dd42194d-e179-412e-8dee-30f27d9b8a4f\",\"type\":\"DataRange1d\"},{\"attributes\":{\"callback\":null,\"renderers\":[{\"id\":\"277ad1dc-702a-4f7c-b183-36dd651de20a\",\"type\":\"GlyphRenderer\"}],\"tooltips\":\"\\n            <div>\\n            line id = @line_id \\n            <table border=\\\"1\\\">\\n                <tr>\\n                <td>I<sub>a</sub> =  @i_a_m &ang; @deg_a </td>\\n                </tr>\\n                <tr>\\n                <td>I<sub>b</sub> =  @i_b_m &ang; @deg_b </td>\\n                </tr>\\n                <tr>\\n                <td>I<sub>c</sub> =  @i_c_m &ang; @deg_c </td>\\n                </tr>\\n                <tr>\\n                <td>I<sub>n</sub> =  @i_n_m &ang; @deg_n </td>\\n                </tr>\\n            </table>            \\n            </div>\\n            \"},\"id\":\"b7395b71-dd46-460f-a3ee-abc8cc53219b\",\"type\":\"HoverTool\"},{\"attributes\":{\"plot\":{\"id\":\"809fbb4a-047d-43ea-85f5-8e7fa7231d70\",\"subtype\":\"Figure\",\"type\":\"Plot\"},\"ticker\":{\"id\":\"1fa1edf8-1f14-4d73-99bd-41874b3ccf3c\",\"type\":\"BasicTicker\"}},\"id\":\"8fe01ec5-11c1-4997-a849-148acae3c82d\",\"type\":\"Grid\"},{\"attributes\":{\"line_alpha\":{\"value\":0.5},\"line_color\":{\"value\":\"green\"},\"line_width\":{\"value\":5},\"xs\":{\"field\":\"x_s\"},\"ys\":{\"field\":\"y_s\"}},\"id\":\"ab5ec29a-97ee-4949-9352-3b8ec57fd91b\",\"type\":\"MultiLine\"},{\"attributes\":{},\"id\":\"1fa1edf8-1f14-4d73-99bd-41874b3ccf3c\",\"type\":\"BasicTicker\"},{\"attributes\":{\"formatter\":{\"id\":\"e4f218b9-ec58-4738-b57d-82f6bc61fb04\",\"type\":\"BasicTickFormatter\"},\"plot\":{\"id\":\"809fbb4a-047d-43ea-85f5-8e7fa7231d70\",\"subtype\":\"Figure\",\"type\":\"Plot\"},\"ticker\":{\"id\":\"1fa1edf8-1f14-4d73-99bd-41874b3ccf3c\",\"type\":\"BasicTicker\"}},\"id\":\"3109c2e2-7dd4-48b1-921f-fb9591b916c1\",\"type\":\"LinearAxis\"},{\"attributes\":{\"plot\":null,\"text\":\"Results\"},\"id\":\"ffa73a6b-5628-476e-a3cb-b77c86f30856\",\"type\":\"Title\"},{\"attributes\":{\"source\":{\"id\":\"e031ecb4-87a0-42f7-aebf-23519ab3bcae\",\"type\":\"ColumnDataSource\"}},\"id\":\"622070dc-c765-41d8-bb68-63d8b4d5cb2c\",\"type\":\"CDSView\"},{\"attributes\":{\"callback\":null,\"renderers\":[{\"id\":\"bb0aea80-cfaa-4bd5-8f04-796b763c37d4\",\"type\":\"GlyphRenderer\"}],\"tooltips\":\"\\n            <div>\\n            line id = @trafo_id  \\n            <table border=\\\"5\\\">\\n                <tr >\\n                    <td>I<sub>1a</sub> =  @i_1a_m &ang; @deg_1a </td>\\n                    <td>I<sub>2a</sub> =  @i_2a_m &ang; @deg_2a </td>\\n                </tr>\\n                <tr>\\n                    <td >I<sub>1b</sub> =  @i_1b_m &ang; @deg_1b </td>\\n                    <td >I<sub>2b</sub> =  @i_2b_m &ang; @deg_2b </td>\\n                </tr>\\n                <tr>\\n                    <td >I<sub>1c</sub> =  @i_1c_m &ang; @deg_1c </td>\\n                    <td >I<sub>2c</sub> =  @i_2c_m &ang; @deg_2c </td>\\n                </tr>\\n                <tr>\\n                    <td >I<sub>1n</sub> =  @i_1n_m &ang; @deg_1n </td>\\n                    <td >I<sub>2n</sub> =  @i_2n_m &ang; @deg_2n </td>\\n                </tr>\\n            </table>            \\n            </div>\\n            \"},\"id\":\"2bbbadc1-7c08-4d66-9652-00410f03439f\",\"type\":\"HoverTool\"},{\"attributes\":{\"callback\":null,\"renderers\":[{\"id\":\"e22b3476-c82b-4c24-8ef8-a7042ead6087\",\"type\":\"GlyphRenderer\"}],\"tooltips\":\"\\n            <div>\\n            bus_id = @bus_id \\n            <table border=\\\"1\\\">\\n                <tr>\\n                <td>v<sub>an</sub> =  @v_an  &ang; @deg_an V </td> <td> S<sub>a</sub> = @p_a + j@q_a </td>\\n                </tr>\\n                      <tr>\\n                      <td> </td> <td>v<sub>ab</sub>= @v_ab V</td>\\n                      </tr>\\n                <tr>\\n                <td>v<sub>bn</sub> = @v_bn &ang; @deg_bn V </td><td> S<sub>b</sub> = @p_b + j@q_b </td>\\n                </tr>\\n                      <tr>\\n                      <td> </td><td>v<sub>bc</sub>= @v_bc V</td>\\n                      </tr>\\n                <tr>\\n                <td>v<sub>cn</sub>  = @v_cn &ang; @deg_cn V </td>  <td>S<sub>c</sub> = @p_c + j@q_c </td>\\n                </tr> \\n                    <tr>\\n                     <td> </td> <td>v<sub>ca</sub>= @v_ca V</td>\\n                    </tr>\\n               <tr>\\n                <td>v<sub>ng</sub>    = @v_ng &ang; @deg_ng V</td>  <td>S<sub>abc</sub> = @p_abc + j@q_abc </td>\\n              </tr>\\n            </table>\\n            </div>\\n            \"},\"id\":\"0574ddeb-f6f5-4f31-84eb-32f785fc6d6a\",\"type\":\"HoverTool\"},{\"attributes\":{\"line_alpha\":{\"value\":0.1},\"line_color\":{\"value\":\"#1f77b4\"},\"line_width\":{\"value\":5},\"xs\":{\"field\":\"x_s\"},\"ys\":{\"field\":\"y_s\"}},\"id\":\"c9abc38a-50f7-4fbe-b3f3-a4d14f37c567\",\"type\":\"MultiLine\"}],\"root_ids\":[\"809fbb4a-047d-43ea-85f5-8e7fa7231d70\"]},\"title\":\"Bokeh Application\",\"version\":\"0.12.7\"}};\n",
       "            var render_items = [{\"docid\":\"fb58e3f1-6db6-4c0a-a5c9-91b732f20bf1\",\"elementid\":\"48d2a4db-f702-4691-991b-ffbc2a477c2a\",\"modelid\":\"809fbb4a-047d-43ea-85f5-8e7fa7231d70\"}];\n",
       "            \n",
       "            Bokeh.embed.embed_items(docs_json, render_items);\n",
       "          };\n",
       "          if (document.readyState != \"loading\") fn();\n",
       "          else document.addEventListener(\"DOMContentLoaded\", fn);\n",
       "        })();\n",
       "      },\n",
       "      function(Bokeh) {\n",
       "      }\n",
       "    ];\n",
       "  \n",
       "    function run_inline_js() {\n",
       "      \n",
       "      if ((root.Bokeh !== undefined) || (force === true)) {\n",
       "        for (var i = 0; i < inline_js.length; i++) {\n",
       "          inline_js[i].call(root, root.Bokeh);\n",
       "        }if (force === true) {\n",
       "          display_loaded();\n",
       "        }} else if (Date.now() < root._bokeh_timeout) {\n",
       "        setTimeout(run_inline_js, 100);\n",
       "      } else if (!root._bokeh_failed_load) {\n",
       "        console.log(\"Bokeh: BokehJS failed to load within specified timeout.\");\n",
       "        root._bokeh_failed_load = true;\n",
       "      } else if (force !== true) {\n",
       "        var cell = $(document.getElementById(\"48d2a4db-f702-4691-991b-ffbc2a477c2a\")).parents('.cell').data().cell;\n",
       "        cell.output_area.append_execute_result(NB_LOAD_WARNING)\n",
       "      }\n",
       "  \n",
       "    }\n",
       "  \n",
       "    if (root._bokeh_is_loading === 0) {\n",
       "      console.log(\"Bokeh: BokehJS loaded, going straight to plotting\");\n",
       "      run_inline_js();\n",
       "    } else {\n",
       "      load_libs(js_urls, function() {\n",
       "        console.log(\"Bokeh: BokehJS plotting callback run at\", now());\n",
       "        run_inline_js();\n",
       "      });\n",
       "    }\n",
       "  }(window));\n",
       "</script>"
      ]
     },
     "metadata": {},
     "output_type": "display_data"
    }
   ],
   "source": [
    "p=plot_results(grid_1)"
   ]
  },
  {
   "cell_type": "code",
   "execution_count": 9,
   "metadata": {
    "collapsed": true
   },
   "outputs": [],
   "source": [
    "from bokeh.resources import CDN\n",
    "from bokeh.embed import file_html\n"
   ]
  },
  {
   "cell_type": "code",
   "execution_count": 10,
   "metadata": {},
   "outputs": [],
   "source": [
    "html = file_html(p, CDN, \"example1\")"
   ]
  },
  {
   "cell_type": "code",
   "execution_count": 11,
   "metadata": {},
   "outputs": [],
   "source": [
    "fobj = open('example1.html','w')\n",
    "fobj.write(html)\n",
    "fobj.close()"
   ]
  },
  {
   "cell_type": "code",
   "execution_count": null,
   "metadata": {
    "collapsed": true
   },
   "outputs": [],
   "source": []
  }
 ],
 "metadata": {
  "kernelspec": {
   "display_name": "Python 3",
   "language": "python",
   "name": "python3"
  },
  "language_info": {
   "codemirror_mode": {
    "name": "ipython",
    "version": 3
   },
   "file_extension": ".py",
   "mimetype": "text/x-python",
   "name": "python",
   "nbconvert_exporter": "python",
   "pygments_lexer": "ipython3",
   "version": "3.6.2"
  }
 },
 "nbformat": 4,
 "nbformat_minor": 2
}
