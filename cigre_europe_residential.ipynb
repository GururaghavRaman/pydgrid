{
 "cells": [
  {
   "cell_type": "code",
   "execution_count": 3,
   "metadata": {
    "collapsed": false
   },
   "outputs": [
    {
     "data": {
      "text/html": [
       "\n",
       "    <div class=\"bk-root\">\n",
       "        <a href=\"http://bokeh.pydata.org\" target=\"_blank\" class=\"bk-logo bk-logo-small bk-logo-notebook\"></a>\n",
       "        <span id=\"70e2fac7-be83-4fe2-93a0-214265687cf2\">Loading BokehJS ...</span>\n",
       "    </div>"
      ]
     },
     "metadata": {},
     "output_type": "display_data"
    },
    {
     "data": {
      "application/javascript": [
       "\n",
       "(function(global) {\n",
       "  function now() {\n",
       "    return new Date();\n",
       "  }\n",
       "\n",
       "  var force = true;\n",
       "\n",
       "  if (typeof (window._bokeh_onload_callbacks) === \"undefined\" || force === true) {\n",
       "    window._bokeh_onload_callbacks = [];\n",
       "    window._bokeh_is_loading = undefined;\n",
       "  }\n",
       "\n",
       "\n",
       "  \n",
       "  if (typeof (window._bokeh_timeout) === \"undefined\" || force === true) {\n",
       "    window._bokeh_timeout = Date.now() + 5000;\n",
       "    window._bokeh_failed_load = false;\n",
       "  }\n",
       "\n",
       "  var NB_LOAD_WARNING = {'data': {'text/html':\n",
       "     \"<div style='background-color: #fdd'>\\n\"+\n",
       "     \"<p>\\n\"+\n",
       "     \"BokehJS does not appear to have successfully loaded. If loading BokehJS from CDN, this \\n\"+\n",
       "     \"may be due to a slow or bad network connection. Possible fixes:\\n\"+\n",
       "     \"</p>\\n\"+\n",
       "     \"<ul>\\n\"+\n",
       "     \"<li>re-rerun `output_notebook()` to attempt to load from CDN again, or</li>\\n\"+\n",
       "     \"<li>use INLINE resources instead, as so:</li>\\n\"+\n",
       "     \"</ul>\\n\"+\n",
       "     \"<code>\\n\"+\n",
       "     \"from bokeh.resources import INLINE\\n\"+\n",
       "     \"output_notebook(resources=INLINE)\\n\"+\n",
       "     \"</code>\\n\"+\n",
       "     \"</div>\"}};\n",
       "\n",
       "  function display_loaded() {\n",
       "    if (window.Bokeh !== undefined) {\n",
       "      var el = document.getElementById(\"70e2fac7-be83-4fe2-93a0-214265687cf2\");\n",
       "      el.textContent = \"BokehJS \" + Bokeh.version + \" successfully loaded.\";\n",
       "    } else if (Date.now() < window._bokeh_timeout) {\n",
       "      setTimeout(display_loaded, 100)\n",
       "    }\n",
       "  }\n",
       "\n",
       "  function run_callbacks() {\n",
       "    try {\n",
       "      window._bokeh_onload_callbacks.forEach(function(callback) { callback() });\n",
       "    }\n",
       "    finally {\n",
       "      delete window._bokeh_onload_callbacks\n",
       "    }\n",
       "    console.info(\"Bokeh: all callbacks have finished\");\n",
       "  }\n",
       "\n",
       "  function load_libs(js_urls, callback) {\n",
       "    window._bokeh_onload_callbacks.push(callback);\n",
       "    if (window._bokeh_is_loading > 0) {\n",
       "      console.log(\"Bokeh: BokehJS is being loaded, scheduling callback at\", now());\n",
       "      return null;\n",
       "    }\n",
       "    if (js_urls == null || js_urls.length === 0) {\n",
       "      run_callbacks();\n",
       "      return null;\n",
       "    }\n",
       "    console.log(\"Bokeh: BokehJS not loaded, scheduling load and callback at\", now());\n",
       "    window._bokeh_is_loading = js_urls.length;\n",
       "    for (var i = 0; i < js_urls.length; i++) {\n",
       "      var url = js_urls[i];\n",
       "      var s = document.createElement('script');\n",
       "      s.src = url;\n",
       "      s.async = false;\n",
       "      s.onreadystatechange = s.onload = function() {\n",
       "        window._bokeh_is_loading--;\n",
       "        if (window._bokeh_is_loading === 0) {\n",
       "          console.log(\"Bokeh: all BokehJS libraries loaded\");\n",
       "          run_callbacks()\n",
       "        }\n",
       "      };\n",
       "      s.onerror = function() {\n",
       "        console.warn(\"failed to load library \" + url);\n",
       "      };\n",
       "      console.log(\"Bokeh: injecting script tag for BokehJS library: \", url);\n",
       "      document.getElementsByTagName(\"head\")[0].appendChild(s);\n",
       "    }\n",
       "  };var element = document.getElementById(\"70e2fac7-be83-4fe2-93a0-214265687cf2\");\n",
       "  if (element == null) {\n",
       "    console.log(\"Bokeh: ERROR: autoload.js configured with elementid '70e2fac7-be83-4fe2-93a0-214265687cf2' but no matching script tag was found. \")\n",
       "    return false;\n",
       "  }\n",
       "\n",
       "  var js_urls = [\"https://cdn.pydata.org/bokeh/release/bokeh-0.12.6.min.js\", \"https://cdn.pydata.org/bokeh/release/bokeh-widgets-0.12.6.min.js\"];\n",
       "\n",
       "  var inline_js = [\n",
       "    function(Bokeh) {\n",
       "      Bokeh.set_log_level(\"info\");\n",
       "    },\n",
       "    \n",
       "    function(Bokeh) {\n",
       "      \n",
       "    },\n",
       "    \n",
       "    function(Bokeh) {\n",
       "      \n",
       "      document.getElementById(\"70e2fac7-be83-4fe2-93a0-214265687cf2\").textContent = \"BokehJS is loading...\";\n",
       "    },\n",
       "    function(Bokeh) {\n",
       "      console.log(\"Bokeh: injecting CSS: https://cdn.pydata.org/bokeh/release/bokeh-0.12.6.min.css\");\n",
       "      Bokeh.embed.inject_css(\"https://cdn.pydata.org/bokeh/release/bokeh-0.12.6.min.css\");\n",
       "      console.log(\"Bokeh: injecting CSS: https://cdn.pydata.org/bokeh/release/bokeh-widgets-0.12.6.min.css\");\n",
       "      Bokeh.embed.inject_css(\"https://cdn.pydata.org/bokeh/release/bokeh-widgets-0.12.6.min.css\");\n",
       "    }\n",
       "  ];\n",
       "\n",
       "  function run_inline_js() {\n",
       "    \n",
       "    if ((window.Bokeh !== undefined) || (force === true)) {\n",
       "      for (var i = 0; i < inline_js.length; i++) {\n",
       "        inline_js[i](window.Bokeh);\n",
       "      }if (force === true) {\n",
       "        display_loaded();\n",
       "      }} else if (Date.now() < window._bokeh_timeout) {\n",
       "      setTimeout(run_inline_js, 100);\n",
       "    } else if (!window._bokeh_failed_load) {\n",
       "      console.log(\"Bokeh: BokehJS failed to load within specified timeout.\");\n",
       "      window._bokeh_failed_load = true;\n",
       "    } else if (force !== true) {\n",
       "      var cell = $(document.getElementById(\"70e2fac7-be83-4fe2-93a0-214265687cf2\")).parents('.cell').data().cell;\n",
       "      cell.output_area.append_execute_result(NB_LOAD_WARNING)\n",
       "    }\n",
       "\n",
       "  }\n",
       "\n",
       "  if (window._bokeh_is_loading === 0) {\n",
       "    console.log(\"Bokeh: BokehJS loaded, going straight to plotting\");\n",
       "    run_inline_js();\n",
       "  } else {\n",
       "    load_libs(js_urls, function() {\n",
       "      console.log(\"Bokeh: BokehJS plotting callback run at\", now());\n",
       "      run_inline_js();\n",
       "    });\n",
       "  }\n",
       "}(this));"
      ]
     },
     "metadata": {},
     "output_type": "display_data"
    }
   ],
   "source": [
    "import numpy as np\n",
    "from bokeh.io import output_notebook, show\n",
    "from bokeh.plotting import figure\n",
    "from bokeh.layouts import gridplot\n",
    "from bokeh.models import ColumnDataSource, HoverTool, CustomJS\n",
    "from bokeh.io import push_notebook\n",
    "from ipywidgets import interact\n",
    "from scipy.interpolate import Rbf\n",
    "output_notebook()"
   ]
  },
  {
   "cell_type": "code",
   "execution_count": 4,
   "metadata": {
    "collapsed": false
   },
   "outputs": [
    {
     "ename": "ImportError",
     "evalue": "No module named 'pydgrid.pf'; 'pydgrid' is not a package",
     "output_type": "error",
     "traceback": [
      "\u001b[0;31m---------------------------------------------------------------------------\u001b[0m",
      "\u001b[0;31mImportError\u001b[0m                               Traceback (most recent call last)",
      "\u001b[0;32m<ipython-input-4-ad198f27cd67>\u001b[0m in \u001b[0;36m<module>\u001b[0;34m()\u001b[0m\n\u001b[0;32m----> 1\u001b[0;31m \u001b[0;32mimport\u001b[0m \u001b[0mpydgrid\u001b[0m\u001b[0;34m\u001b[0m\u001b[0m\n\u001b[0m",
      "\u001b[0;32m/home/jmmauricio/Documents/public/workspace/pydgrid/pydgrid/pydgrid.py\u001b[0m in \u001b[0;36m<module>\u001b[0;34m()\u001b[0m\n\u001b[1;32m     14\u001b[0m \u001b[0;32mimport\u001b[0m \u001b[0mjson\u001b[0m\u001b[0;34m\u001b[0m\u001b[0m\n\u001b[1;32m     15\u001b[0m \u001b[0;32mimport\u001b[0m \u001b[0mtime\u001b[0m\u001b[0;34m\u001b[0m\u001b[0m\n\u001b[0;32m---> 16\u001b[0;31m \u001b[0;32mfrom\u001b[0m \u001b[0mpydgrid\u001b[0m\u001b[0;34m.\u001b[0m\u001b[0mpf\u001b[0m \u001b[0;32mimport\u001b[0m \u001b[0mpf_eval\u001b[0m\u001b[0;34m,\u001b[0m\u001b[0mset_load_factor\u001b[0m\u001b[0;34m\u001b[0m\u001b[0m\n\u001b[0m\u001b[1;32m     17\u001b[0m \u001b[0;32mimport\u001b[0m \u001b[0mtime\u001b[0m\u001b[0;34m\u001b[0m\u001b[0m\n\u001b[1;32m     18\u001b[0m \u001b[0;32mfrom\u001b[0m \u001b[0mscipy\u001b[0m \u001b[0;32mimport\u001b[0m \u001b[0msparse\u001b[0m\u001b[0;34m\u001b[0m\u001b[0m\n",
      "\u001b[0;31mImportError\u001b[0m: No module named 'pydgrid.pf'; 'pydgrid' is not a package"
     ]
    }
   ],
   "source": [
    "import pydgrid"
   ]
  },
  {
   "cell_type": "code",
   "execution_count": null,
   "metadata": {
    "collapsed": false
   },
   "outputs": [],
   "source": [
    "sys1 = pydgrid.grid()\n",
    "sys1.read('../examples/cigre/cigre_europe_residential.json')  # Load data\n",
    "sys1.pf()  \n",
    "sys1.get_v()      # post process voltages\n",
    "sys1.get_i()      # post process currents\n",
    "\n",
    "V_an  = np.array([item['v_an']/item['U_kV']/1000*np.sqrt(3) for item in sys1.buses])\n",
    "V_bn  = np.array([item['v_bn']/item['U_kV']/1000*np.sqrt(3) for item in sys1.buses])\n",
    "V_cn  = np.array([item['v_cn']/item['U_kV']/1000*np.sqrt(3) for item in sys1.buses])\n",
    "Pos_x = np.array([item['pos_x'] for item in sys1.buses])\n",
    "Pos_y = np.array([item['pos_y'] for item in sys1.buses])\n",
    "x_min = np.min(Pos_x)\n",
    "x_max = np.max(Pos_x)\n",
    "y_min = np.min(Pos_y)\n",
    "y_max = np.max(Pos_y)\n",
    "\n",
    "x_margin = 150\n",
    "y_margin = 100\n",
    "\n",
    "x_min2 = x_min-x_margin\n",
    "x_max2 = x_max+x_margin\n",
    "y_min2 = y_min-y_margin\n",
    "y_max2 = y_max+y_margin\n",
    "\n",
    "Pos_x_e = np.hstack((x_min2, x_min2, Pos_x, x_max2, x_max2))\n",
    "Pos_y_e = np.hstack((y_min2, y_max2, Pos_y, y_max2, y_min2))\n",
    "V_an_e  = np.hstack((1,1, V_an, 1,1))\n",
    "V_bn_e  = np.hstack((1,1, V_bn, 1,1))\n",
    "V_cn_e  = np.hstack((1,1, V_cn, 1,1))\n",
    "rbfi_a = Rbf(Pos_x_e, Pos_y_e, V_an_e, function='linear')\n",
    "rbfi_b = Rbf(Pos_x_e, Pos_y_e, V_bn_e)\n",
    "rbfi_c = Rbf(Pos_x_e, Pos_y_e, V_cn_e)\n",
    "\n",
    "x =  np.linspace(x_min2,x_max2, 1000)\n",
    "y =  np.linspace(y_min2,y_max2, 1000)\n",
    "X, Y = np.meshgrid(x, y)\n",
    "Z_a = rbfi_a(X, Y)\n",
    "Z_b = rbfi_b(X, Y)\n",
    "Z_c = rbfi_c(X, Y)"
   ]
  },
  {
   "cell_type": "markdown",
   "metadata": {},
   "source": [
    "## CIGRE LV European System"
   ]
  },
  {
   "cell_type": "markdown",
   "metadata": {},
   "source": [
    "### Graph with obtained results"
   ]
  },
  {
   "cell_type": "code",
   "execution_count": null,
   "metadata": {
    "collapsed": false
   },
   "outputs": [],
   "source": [
    "sys1.s_radio_scale = 0.1\n",
    "sys1.bokeh_tools()\n",
    "\n",
    "p = figure(width=600, height=800,\n",
    "           title='European LV Network (CIGRE)', x_range=[-150,150], y_range=[-350, 50])\n",
    "\n",
    "p.image(image=[Z_a], x=x_min2, y=y_min2, dw=(x_max2-x_min2), dh=(y_max2-y_min2), palette=\"Spectral11\")\n",
    "\n",
    "\n",
    "# lines:\n",
    "source = ColumnDataSource(sys1.line_data)\n",
    "lin = p.multi_line(source=source, xs='x_s', ys='y_s', color=\"red\", alpha=1, line_width=5)\n",
    "\n",
    "# buses:\n",
    "source = ColumnDataSource(sys1.bus_data)\n",
    "cr = p.circle(source=source, x='x', y='y', size='s_radio', color='s_color', alpha=1)\n",
    "\n",
    "p.add_tools(HoverTool(renderers=[lin], tooltips=sys1.line_tooltip))\n",
    "p.add_tools(HoverTool(renderers=[cr], tooltips=sys1.bus_tooltip))\n",
    "show(p)"
   ]
  },
  {
   "cell_type": "markdown",
   "metadata": {},
   "source": [
    "### Interaction with powers"
   ]
  },
  {
   "cell_type": "code",
   "execution_count": null,
   "metadata": {
    "collapsed": false
   },
   "outputs": [],
   "source": [
    "sys1.read('../examples/cigre/cigre_europe_residential.json')  # Load data\n",
    "sys1.pf()  \n",
    "sys1.get_v()      # post process voltages\n",
    "sys1.get_i()      # post process currents\n",
    "\n",
    "s_0_3pn = np.copy(sys1.pq_3pn) # \n",
    "s_0_1p  = np.copy(sys1.pq_1p)  # \n",
    "sys1.bokeh_tools()\n",
    "p = figure(width=600, height=300,\n",
    "           title='Voltage vs load powers', \n",
    "           x_range = [40,-350], y_range = [180,250],\n",
    "           x_axis_label='Distance (m)',\n",
    "           y_axis_label='Voltage (V)')\n",
    "source = ColumnDataSource(sys1.bus_data)\n",
    "cr = p.circle(source=source, x='y', y='v_an', size=15, color=\"red\", alpha=0.5)\n",
    "p.circle(source=source, x='y', y='v_bn', size=15, color=\"green\", alpha=0.5)\n",
    "p.circle(source=source, x='y', y='v_cn', size=15, color=\"blue\", alpha=0.5)\n",
    "p.line([-400,300],[231*1.05,231*1.05], color='red', line_width=5)\n",
    "p.line([-400,300],[231*0.90,231*0.90], color='blue', line_width=5)\n",
    "#p.add_tools(HoverTool(renderers=[cr], tooltips=sys1.bus_tooltip))\n",
    "\n",
    "\n",
    "def update_loads(load_factor=1.0):\n",
    "\n",
    "    #sys1.pq_1p = load_factor*s_0_1p\n",
    "    sys1.pq_3pn = np.copy(load_factor*s_0_3pn)\n",
    "    sys1.pf()\n",
    "    sys1.get_v()\n",
    "    sys1.get_i()\n",
    "    sys1.bokeh_tools()\n",
    "\n",
    "    source.data = sys1.bus_data\n",
    "    push_notebook()\n",
    "\n",
    "#p_grid = gridplot([[p], [p_2]])\n",
    "show(p, notebook_handle=True)\n"
   ]
  },
  {
   "cell_type": "code",
   "execution_count": null,
   "metadata": {
    "collapsed": false
   },
   "outputs": [],
   "source": [
    "from ipywidgets import interact\n",
    "interact(update_loads, load_factor=(-1,1.2, 0.01))"
   ]
  },
  {
   "cell_type": "code",
   "execution_count": null,
   "metadata": {
    "collapsed": false
   },
   "outputs": [],
   "source": [
    "np.sum(abs(sys1.pq_3pn), axis=1)"
   ]
  },
  {
   "cell_type": "code",
   "execution_count": null,
   "metadata": {
    "collapsed": false
   },
   "outputs": [],
   "source": [
    "sys1.params_pf['iters']"
   ]
  },
  {
   "cell_type": "code",
   "execution_count": null,
   "metadata": {
    "collapsed": true
   },
   "outputs": [],
   "source": [
    "import pandas as pd"
   ]
  },
  {
   "cell_type": "code",
   "execution_count": null,
   "metadata": {
    "collapsed": false
   },
   "outputs": [],
   "source": [
    "df = pd.DataFrame()"
   ]
  },
  {
   "cell_type": "code",
   "execution_count": null,
   "metadata": {
    "collapsed": false
   },
   "outputs": [],
   "source": [
    "df['nodes'] = sys1.nodes\n",
    "df['I_node_m'] = np.abs(sys1.I_node)\n",
    "df['V_node_m'] = np.abs(sys1.V_node)\n",
    "df['phi'] = np.angle(sys1.I_node, deg=True) - np.angle(sys1.V_node, deg=True)\n",
    "df['s'] = np.conjugate(sys1.I_node)*sys1.V_node\n",
    "df['p'] = df['s'].real\n",
    "df['q'] = df['s'].imag"
   ]
  },
  {
   "cell_type": "code",
   "execution_count": null,
   "metadata": {
    "collapsed": false
   },
   "outputs": [],
   "source": [
    "self = sys1\n",
    "\n",
    "node_sorter = []\n",
    "for bus in self.buses:\n",
    "    for node in range(10):\n",
    "        bus_node = '{:s}.{:s}'.format(str(bus['bus']),str(node))\n",
    "        if bus_node in self.nodes:\n",
    "            node_idx = self.nodes.index(bus_node) \n",
    "            node_sorter += [node_idx]\n",
    "                \n",
    "                "
   ]
  },
  {
   "cell_type": "code",
   "execution_count": null,
   "metadata": {
    "collapsed": false
   },
   "outputs": [],
   "source": [
    "sys1.V_node[node_sorter]"
   ]
  },
  {
   "cell_type": "code",
   "execution_count": null,
   "metadata": {
    "collapsed": true
   },
   "outputs": [],
   "source": []
  },
  {
   "cell_type": "code",
   "execution_count": null,
   "metadata": {
    "collapsed": true
   },
   "outputs": [],
   "source": []
  },
  {
   "cell_type": "code",
   "execution_count": null,
   "metadata": {
    "collapsed": true
   },
   "outputs": [],
   "source": []
  }
 ],
 "metadata": {
  "anaconda-cloud": {},
  "kernelspec": {
   "display_name": "Python [default]",
   "language": "python",
   "name": "python3"
  },
  "language_info": {
   "codemirror_mode": {
    "name": "ipython",
    "version": 3
   },
   "file_extension": ".py",
   "mimetype": "text/x-python",
   "name": "python",
   "nbconvert_exporter": "python",
   "pygments_lexer": "ipython3",
   "version": "3.5.2"
  }
 },
 "nbformat": 4,
 "nbformat_minor": 1
}
