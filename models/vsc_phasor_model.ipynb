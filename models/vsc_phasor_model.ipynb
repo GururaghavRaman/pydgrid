{
 "cells": [
  {
   "cell_type": "code",
   "execution_count": 110,
   "metadata": {
    "collapsed": true
   },
   "outputs": [],
   "source": [
    "import numpy as np\n",
    "import numba\n",
    "import matplotlib.pyplot as plt\n",
    "import sympy as sym\n",
    "plt.style.use('presentation.mplstyle')\n",
    "%matplotlib notebook\n",
    "\n",
    "def d2np(d):\n",
    "    \n",
    "    names = []\n",
    "    numbers = ()\n",
    "    dtypes = []\n",
    "    for item in d:\n",
    "        names += item   \n",
    "        if type(d[item]) == float:\n",
    "            numbers += (d[item],)\n",
    "            dtypes += [(item,float)]\n",
    "        if type(d[item]) == int:\n",
    "            numbers += (d[item],)\n",
    "            dtypes += [(item,int)]\n",
    "        if type(d[item]) == np.ndarray:\n",
    "            numbers += (d[item],)\n",
    "            dtypes += [(item,np.float64,d[item].shape)]\n",
    "    return np.array([numbers],dtype=dtypes)\n",
    "\n"
   ]
  },
  {
   "cell_type": "markdown",
   "metadata": {},
   "source": [
    "### Fortescue"
   ]
  },
  {
   "cell_type": "code",
   "execution_count": 111,
   "metadata": {
    "collapsed": true
   },
   "outputs": [],
   "source": [
    "alpha = np.exp(2.0/3*np.pi*1j)\n",
    "A_0a =  np.array([[1, 1, 1],\n",
    "                  [1, alpha**2, alpha],\n",
    "                  [1, alpha, alpha**2]])\n",
    "\n",
    "A_a0 = 1/3* np.array([[1, 1, 1],\n",
    "                      [1, alpha, alpha**2],\n",
    "                      [1, alpha**2, alpha]])"
   ]
  },
  {
   "cell_type": "markdown",
   "metadata": {
    "collapsed": true
   },
   "source": [
    "### Voltage source"
   ]
  },
  {
   "cell_type": "code",
   "execution_count": 112,
   "metadata": {
    "collapsed": true
   },
   "outputs": [],
   "source": [
    "theta = np.deg2rad(0.0)\n",
    "V_zero =  0.0*np.exp(1j*0.0)\n",
    "V_neg  =50.0*np.exp(1j*0.0)\n",
    "V_pos  =400.0/np.sqrt(3)*np.exp(1j*theta)\n",
    "\n",
    "V_012 = np.array([[V_zero],[V_pos],[V_neg]])\n",
    "\n",
    "V_abc = A_0a @ V_012"
   ]
  },
  {
   "cell_type": "markdown",
   "metadata": {},
   "source": [
    "### Control inputs"
   ]
  },
  {
   "cell_type": "code",
   "execution_count": 168,
   "metadata": {
    "collapsed": true
   },
   "outputs": [],
   "source": [
    "L = 500e-6\n",
    "R = 0.01\n",
    "omega = 2.0*np.pi*50.0\n",
    "v_dc = 800.0\n",
    "\n",
    "\n",
    "V_012 = A_a0 @ V_abc \n",
    "v_z = V_012[0,0]\n",
    "v_p = V_012[1,0]\n",
    "v_n = V_012[2,0]"
   ]
  },
  {
   "cell_type": "markdown",
   "metadata": {},
   "source": [
    "### PLL"
   ]
  },
  {
   "cell_type": "code",
   "execution_count": 169,
   "metadata": {
    "collapsed": true
   },
   "outputs": [],
   "source": [
    "theta_pll = np.angle(v_p)"
   ]
  },
  {
   "cell_type": "markdown",
   "metadata": {},
   "source": [
    "### Park"
   ]
  },
  {
   "cell_type": "code",
   "execution_count": 170,
   "metadata": {
    "collapsed": true
   },
   "outputs": [],
   "source": [
    "v_dq_z = v_z*np.exp(-1j*theta_pll)*np.sqrt(2)\n",
    "v_dq_p = v_p*np.exp(-1j*theta_pll)*np.sqrt(2)\n",
    "v_dq_n = v_n*np.exp( 1j*theta_pll)*np.sqrt(2)\n",
    "\n",
    "v_d_z = v_dq_z.real\n",
    "v_q_z = v_dq_z.imag\n",
    "v_d_p = v_dq_p.real\n",
    "v_q_p = v_dq_p.imag\n",
    "v_d_n = v_dq_n.real\n",
    "v_q_n = v_dq_n.imag"
   ]
  },
  {
   "cell_type": "code",
   "execution_count": 171,
   "metadata": {},
   "outputs": [
    {
     "data": {
      "text/plain": [
       "326.59863237109045"
      ]
     },
     "execution_count": 171,
     "metadata": {},
     "output_type": "execute_result"
    }
   ],
   "source": [
    "v_d_p"
   ]
  },
  {
   "cell_type": "markdown",
   "metadata": {},
   "source": [
    "### References"
   ]
  },
  {
   "cell_type": "code",
   "execution_count": 182,
   "metadata": {
    "collapsed": true
   },
   "outputs": [],
   "source": [
    "p_ref = 0.1e6\n",
    "q_ref = 0.0e6\n",
    "\n",
    "pq_ref = np.array([p_ref,q_ref,0,0]).reshape(4,1)\n",
    "i2p=3/2*np.array([[ v_d_p, v_q_p, v_d_n, v_q_n],  # i_d_p\n",
    "                  [-v_q_p, v_d_p,-v_q_n, v_d_n],  # i_q_p\n",
    "                  [-v_q_n, v_d_n, v_q_p,-v_d_p],  # i_d_n\n",
    "                  [ v_d_n, v_q_n, v_d_p, v_q_p]]) # i_q_n\n",
    "\n",
    "\n",
    "p2i=np.linalg.inv(i2p)\n",
    "\n",
    "i_dq_pn = p2i@pq_ref\n",
    "\n",
    "i_d_p_ref = 100.0\n",
    "i_q_p_ref = 0.0\n",
    "i_d_n_ref = 0.0\n",
    "i_q_n_ref = 0.0\n",
    "\n",
    "i_d_p_ref = i_dq_pn[0,0]\n",
    "i_q_p_ref = i_dq_pn[1,0]\n",
    "i_d_n_ref = i_dq_pn[2,0]\n",
    "i_q_n_ref = i_dq_pn[3,0]\n",
    "\n",
    "mode = 'p_cte'\n",
    "\n",
    "if mode == 'p_pos_i_n_0':\n",
    "    i_d_p_ref = 2/3*(-p_ref*v_d_p*(v_d_n**2 + v_d_p**2 + v_q_n**2 + v_q_p**2) + q_ref*v_q_p*(v_d_n**2 - v_d_p**2 + v_q_n**2 - v_q_p**2))/(v_d_n**4 + 2.0*v_d_n**2*v_q_n**2 - v_d_p**4 - 2.0*v_d_p**2*v_q_p**2 + v_q_n**4 - v_q_p**4)\n",
    "    i_q_p_ref = -(2/3*p_ref*v_q_p*(v_d_n**2 + v_d_p**2 + v_q_n**2 + v_q_p**2) + 0.666666666666667*q_ref*v_d_p*(v_d_n**2 - v_d_p**2 + v_q_n**2 - v_q_p**2))/(v_d_n**4 + 2.0*v_d_n**2*v_q_n**2 - v_d_p**4 - 2.0*v_d_p**2*v_q_p**2 + v_q_n**4 - v_q_p**4)\n",
    "    i_d_n_ref = 0\n",
    "    i_q_n_ref = 0\n",
    "    \n",
    "if mode == 'p_cte':\n",
    "    i_d_p_ref = 2/3*(-p_ref*v_d_p*(v_d_n**2 + v_d_p**2 + v_q_n**2 + v_q_p**2) + q_ref*v_q_p*(v_d_n**2 - v_d_p**2 + v_q_n**2 - v_q_p**2))/(v_d_n**4 + 2.0*v_d_n**2*v_q_n**2 - v_d_p**4 - 2.0*v_d_p**2*v_q_p**2 + v_q_n**4 - v_q_p**4)\n",
    "    i_q_p_ref = -(2/3*p_ref*v_q_p*(v_d_n**2 + v_d_p**2 + v_q_n**2 + v_q_p**2) + 0.666666666666667*q_ref*v_d_p*(v_d_n**2 - v_d_p**2 + v_q_n**2 - v_q_p**2))/(v_d_n**4 + 2.0*v_d_n**2*v_q_n**2 - v_d_p**4 - 2.0*v_d_p**2*v_q_p**2 + v_q_n**4 - v_q_p**4)\n",
    "    i_d_n_ref = 2/3*(p_ref*v_d_n*(v_d_n**2 + v_d_p**2 + v_q_n**2 + v_q_p**2) + q_ref*v_q_n*(v_d_n**2 - v_d_p**2 + v_q_n**2 - v_q_p**2))/(v_d_n**4 + 2.0*v_d_n**2*v_q_n**2 - v_d_p**4 - 2.0*v_d_p**2*v_q_p**2 + v_q_n**4 - v_q_p**4)\n",
    "    i_q_n_ref = 2/3*(p_ref*v_q_n*(v_d_n**2 + v_d_p**2 + v_q_n**2 + v_q_p**2) - q_ref*v_d_n*(v_d_n**2 - v_d_p**2 + v_q_n**2 - v_q_p**2))/(v_d_n**4 + 2.0*v_d_n**2*v_q_n**2 - v_d_p**4 - 2.0*v_d_p**2*v_q_p**2 + v_q_n**4 - v_q_p**4)\n",
    "\n",
    "if mode == 'q_cte':\n",
    "    i_d_p_ref = 0.666666666666667*(p_ref*v_d_p*(v_d_n**2 - v_d_p**2 + v_q_n**2 - v_q_p**2) - q_ref*v_q_p*(v_d_n**2 + v_d_p**2 + v_q_n**2 + v_q_p**2))/(v_d_n**4 + 2.0*v_d_n**2*v_q_n**2 - v_d_p**4 - 2.0*v_d_p**2*v_q_p**2 + v_q_n**4 - v_q_p**4)\n",
    "    i_q_p_ref = 0.666666666666667*(p_ref*v_q_p*(v_d_n**2 - v_d_p**2 + v_q_n**2 - v_q_p**2) + q_ref*v_d_p*(v_d_n**2 + v_d_p**2 + v_q_n**2 + v_q_p**2))/(v_d_n**4 + 2.0*v_d_n**2*v_q_n**2 - v_d_p**4 - 2.0*v_d_p**2*v_q_p**2 + v_q_n**4 - v_q_p**4)\n",
    "    i_d_n_ref = 0.666666666666667*(p_ref*v_d_n*(v_d_n**2 - v_d_p**2 + v_q_n**2 - v_q_p**2) + q_ref*v_q_n*(v_d_n**2 + v_d_p**2 + v_q_n**2 + v_q_p**2))/(v_d_n**4 + 2.0*v_d_n**2*v_q_n**2 - v_d_p**4 - 2.0*v_d_p**2*v_q_p**2 + v_q_n**4 - v_q_p**4)\n",
    "    i_q_n_ref = 0.666666666666667*(p_ref*v_q_n*(v_d_n**2 - v_d_p**2 + v_q_n**2 - v_q_p**2) - q_ref*v_d_n*(v_d_n**2 + v_d_p**2 + v_q_n**2 + v_q_p**2))/(v_d_n**4 + 2.0*v_d_n**2*v_q_n**2 - v_d_p**4 - 2.0*v_d_p**2*v_q_p**2 + v_q_n**4 - v_q_p**4)\n",
    "    \n",
    "if mode == 'pq_cte':\n",
    "    i_d_p_ref = -0.333333333333333*v_q_n*(p_ref*(v_d_n*v_d_p + v_q_n*v_q_p) - q_ref*(v_d_n*v_q_p - v_d_p*v_q_n))/(v_d_n**2*v_d_p*v_q_p - v_d_n*v_d_p**2*v_q_n + v_d_n*v_q_n*v_q_p**2 - v_d_p*v_q_n**2*v_q_p)\n",
    "    i_q_p_ref = 0.333333333333333*v_d_n*(p_ref*(v_d_n*v_d_p + v_q_n*v_q_p) - q_ref*(v_d_n*v_q_p - v_d_p*v_q_n))/(v_d_n**2*v_d_p*v_q_p - v_d_n*v_d_p**2*v_q_n + v_d_n*v_q_n*v_q_p**2 - v_d_p*v_q_n**2*v_q_p)\n",
    "    i_d_n_ref = 0.333333333333333*v_q_p*(p_ref*(v_d_n*v_d_p + v_q_n*v_q_p) + q_ref*(v_d_n*v_q_p - v_d_p*v_q_n))/(v_d_n**2*v_d_p*v_q_p - v_d_n*v_d_p**2*v_q_n + v_d_n*v_q_n*v_q_p**2 - v_d_p*v_q_n**2*v_q_p)\n",
    "    i_q_n_ref = -0.333333333333333*v_d_p*(p_ref*(v_d_n*v_d_p + v_q_n*v_q_p) + q_ref*(v_d_n*v_q_p - v_d_p*v_q_n))/(v_d_n**2*v_d_p*v_q_p - v_d_n*v_d_p**2*v_q_n + v_d_n*v_q_n*v_q_p**2 - v_d_p*v_q_n**2*v_q_p)\n"
   ]
  },
  {
   "cell_type": "markdown",
   "metadata": {},
   "source": [
    "### Control"
   ]
  },
  {
   "cell_type": "code",
   "execution_count": 183,
   "metadata": {
    "collapsed": true
   },
   "outputs": [],
   "source": [
    "eta_d_p = 2.0/v_dc*(R*i_d_p_ref - L*omega*i_q_p_ref + v_d_p)\n",
    "eta_q_p = 2.0/v_dc*(R*i_q_p_ref + L*omega*i_d_p_ref + v_q_p)\n",
    "eta_d_n = 2.0/v_dc*(R*i_d_n_ref - L*omega*i_q_n_ref + v_d_n)\n",
    "eta_q_n = 2.0/v_dc*(R*i_q_n_ref + L*omega*i_d_n_ref + v_q_n)\n",
    "\n",
    "eta_dq_p = eta_d_p + 1j*eta_q_p\n",
    "e_dq_p = v_dc/2.0*eta_dq_p       # phase-neutral peak value\n",
    " \n",
    "eta_dq_n = eta_d_n + 1j*eta_q_n\n",
    "e_dq_n = v_dc/2.0*eta_dq_n       # phase-neutral peak value"
   ]
  },
  {
   "cell_type": "markdown",
   "metadata": {},
   "source": [
    "### Modulation"
   ]
  },
  {
   "cell_type": "code",
   "execution_count": 184,
   "metadata": {
    "collapsed": true
   },
   "outputs": [],
   "source": [
    "e_p = e_dq_p *np.exp( 1j*theta_pll)/np.sqrt(2) # phase-neutral RMS value   \n",
    "e_n = e_dq_n *np.exp(-1j*theta_pll)/np.sqrt(2) # phase-neutral RMS value\n",
    "e_z = 0.0\n",
    "#e_n = 0.0\n",
    "\n",
    "e_012 = np.array([e_z,e_p,e_n]).reshape(3,1)\n",
    "e_abc = A_0a @ e_012 "
   ]
  },
  {
   "cell_type": "markdown",
   "metadata": {},
   "source": [
    "### Plant"
   ]
  },
  {
   "cell_type": "code",
   "execution_count": 185,
   "metadata": {
    "collapsed": true
   },
   "outputs": [],
   "source": [
    "Z_0 = 1000.0\n",
    "Z_1 = R +1j *L*omega\n",
    "Z_2 = Z_1\n",
    "\n",
    "Z_012 = np.diag([Z_0,Z_1,Z_2])\n",
    "\n",
    "Z_abc = A_0a @ Z_012 @ A_a0\n",
    "\n",
    "Y_abc = np.linalg.inv(Z_abc)\n",
    "I_abc = Y_abc @ (e_abc-V_abc)\n",
    "\n",
    "if 0:\n",
    "    I_abc_p = (e_p - v_p)/Z_1*np.array([1,alpha,alpha**2])\n",
    "    I_abc_n = (e_n - v_n)/Z_2*np.array([1,alpha**2,alpha])\n",
    "    i_a_p = (np.exp(1j*2.0*np.pi*50.0*t)*I_abc_p[0]).real*np.sqrt(2)\n",
    "    i_b_p = (np.exp(1j*2.0*np.pi*50.0*t)*I_abc_p[1]).real*np.sqrt(2)\n",
    "    i_c_p = (np.exp(1j*2.0*np.pi*50.0*t)*I_abc_p[2]).real*np.sqrt(2)\n",
    "    i_a_n = (np.exp(-1j*2.0*np.pi*50.0*t)*I_abc_n[0]).real*np.sqrt(2)\n",
    "    i_b_n = (np.exp(-1j*2.0*np.pi*50.0*t)*I_abc_n[1]).real*np.sqrt(2)\n",
    "    i_c_n = (np.exp(-1j*2.0*np.pi*50.0*t)*I_abc_n[2]).real*np.sqrt(2)"
   ]
  },
  {
   "cell_type": "code",
   "execution_count": 186,
   "metadata": {},
   "outputs": [
    {
     "data": {
      "text/plain": [
       "array([[ 118.64925093 -2.94164693e-12j],\n",
       "       [ -59.32462547 -1.59541817e+02j],\n",
       "       [ -59.32462547 +1.59541817e+02j]])"
      ]
     },
     "execution_count": 186,
     "metadata": {},
     "output_type": "execute_result"
    }
   ],
   "source": [
    "I_abc = Y_abc @ (e_abc-V_abc)\n",
    "I_abc"
   ]
  },
  {
   "cell_type": "code",
   "execution_count": 187,
   "metadata": {},
   "outputs": [
    {
     "data": {
      "text/plain": [
       "array([ 151.43613618 +8.44724376e-15j,  -75.71806809 +1.31147541e+02j,\n",
       "        -75.71806809 -1.31147541e+02j])"
      ]
     },
     "execution_count": 187,
     "metadata": {},
     "output_type": "execute_result"
    }
   ],
   "source": [
    "(e_p - v_p)/Z_1*np.array([1,alpha,alpha**2])"
   ]
  },
  {
   "cell_type": "code",
   "execution_count": 188,
   "metadata": {},
   "outputs": [
    {
     "data": {
      "text/plain": [
       "array([-32.78688525 +1.79503930e-14j,  16.39344262 +2.83942755e+01j,\n",
       "        16.39344262 -2.83942755e+01j])"
      ]
     },
     "execution_count": 188,
     "metadata": {},
     "output_type": "execute_result"
    }
   ],
   "source": [
    "(e_n - v_n)/Z_2*np.array([1,alpha**2,alpha])"
   ]
  },
  {
   "cell_type": "code",
   "execution_count": 189,
   "metadata": {},
   "outputs": [
    {
     "data": {
      "text/plain": [
       "array([[ 280.94010768  +0.j        ],\n",
       "       [-140.47005384-156.69872981j],\n",
       "       [-140.47005384+156.69872981j]])"
      ]
     },
     "execution_count": 189,
     "metadata": {},
     "output_type": "execute_result"
    }
   ],
   "source": [
    "V_abc"
   ]
  },
  {
   "cell_type": "markdown",
   "metadata": {},
   "source": [
    "### From phasor to time"
   ]
  },
  {
   "cell_type": "code",
   "execution_count": 190,
   "metadata": {
    "collapsed": true
   },
   "outputs": [],
   "source": [
    "t = np.linspace(0.0,0.04,200)\n",
    "v_a = (np.exp(1j*2.0*np.pi*50.0*t)*V_abc[0]).real*np.sqrt(2)\n",
    "v_b = (np.exp(1j*2.0*np.pi*50.0*t)*V_abc[1]).real*np.sqrt(2)\n",
    "v_c = (np.exp(1j*2.0*np.pi*50.0*t)*V_abc[2]).real*np.sqrt(2)\n",
    "i_a = (np.exp(1j*2.0*np.pi*50.0*t)*I_abc[0]).real*np.sqrt(2)\n",
    "i_b = (np.exp(1j*2.0*np.pi*50.0*t)*I_abc[1]).real*np.sqrt(2)\n",
    "i_c = (np.exp(1j*2.0*np.pi*50.0*t)*I_abc[2]).real*np.sqrt(2)\n",
    "#i_a = i_a_p + i_a_n\n",
    "#i_b = i_c_p + i_c_n\n",
    "#i_c = i_b_p + i_b_n\n",
    "\n",
    "p = v_a*i_a + v_b*i_b + v_c*i_c\n",
    "q = (i_a*(v_b-v_c) + i_b*(v_c-v_a) + i_c*(v_a-v_b))/np.sqrt(3)\n",
    "#q = (i_a*(v_c-v_b) + i_b*(v_a-v_c) + i_c*(v_b-v_a))/np.sqrt(3)"
   ]
  },
  {
   "cell_type": "code",
   "execution_count": 191,
   "metadata": {},
   "outputs": [
    {
     "data": {
      "application/javascript": [
       "/* Put everything inside the global mpl namespace */\n",
       "window.mpl = {};\n",
       "\n",
       "\n",
       "mpl.get_websocket_type = function() {\n",
       "    if (typeof(WebSocket) !== 'undefined') {\n",
       "        return WebSocket;\n",
       "    } else if (typeof(MozWebSocket) !== 'undefined') {\n",
       "        return MozWebSocket;\n",
       "    } else {\n",
       "        alert('Your browser does not have WebSocket support.' +\n",
       "              'Please try Chrome, Safari or Firefox ≥ 6. ' +\n",
       "              'Firefox 4 and 5 are also supported but you ' +\n",
       "              'have to enable WebSockets in about:config.');\n",
       "    };\n",
       "}\n",
       "\n",
       "mpl.figure = function(figure_id, websocket, ondownload, parent_element) {\n",
       "    this.id = figure_id;\n",
       "\n",
       "    this.ws = websocket;\n",
       "\n",
       "    this.supports_binary = (this.ws.binaryType != undefined);\n",
       "\n",
       "    if (!this.supports_binary) {\n",
       "        var warnings = document.getElementById(\"mpl-warnings\");\n",
       "        if (warnings) {\n",
       "            warnings.style.display = 'block';\n",
       "            warnings.textContent = (\n",
       "                \"This browser does not support binary websocket messages. \" +\n",
       "                    \"Performance may be slow.\");\n",
       "        }\n",
       "    }\n",
       "\n",
       "    this.imageObj = new Image();\n",
       "\n",
       "    this.context = undefined;\n",
       "    this.message = undefined;\n",
       "    this.canvas = undefined;\n",
       "    this.rubberband_canvas = undefined;\n",
       "    this.rubberband_context = undefined;\n",
       "    this.format_dropdown = undefined;\n",
       "\n",
       "    this.image_mode = 'full';\n",
       "\n",
       "    this.root = $('<div/>');\n",
       "    this._root_extra_style(this.root)\n",
       "    this.root.attr('style', 'display: inline-block');\n",
       "\n",
       "    $(parent_element).append(this.root);\n",
       "\n",
       "    this._init_header(this);\n",
       "    this._init_canvas(this);\n",
       "    this._init_toolbar(this);\n",
       "\n",
       "    var fig = this;\n",
       "\n",
       "    this.waiting = false;\n",
       "\n",
       "    this.ws.onopen =  function () {\n",
       "            fig.send_message(\"supports_binary\", {value: fig.supports_binary});\n",
       "            fig.send_message(\"send_image_mode\", {});\n",
       "            if (mpl.ratio != 1) {\n",
       "                fig.send_message(\"set_dpi_ratio\", {'dpi_ratio': mpl.ratio});\n",
       "            }\n",
       "            fig.send_message(\"refresh\", {});\n",
       "        }\n",
       "\n",
       "    this.imageObj.onload = function() {\n",
       "            if (fig.image_mode == 'full') {\n",
       "                // Full images could contain transparency (where diff images\n",
       "                // almost always do), so we need to clear the canvas so that\n",
       "                // there is no ghosting.\n",
       "                fig.context.clearRect(0, 0, fig.canvas.width, fig.canvas.height);\n",
       "            }\n",
       "            fig.context.drawImage(fig.imageObj, 0, 0);\n",
       "        };\n",
       "\n",
       "    this.imageObj.onunload = function() {\n",
       "        this.ws.close();\n",
       "    }\n",
       "\n",
       "    this.ws.onmessage = this._make_on_message_function(this);\n",
       "\n",
       "    this.ondownload = ondownload;\n",
       "}\n",
       "\n",
       "mpl.figure.prototype._init_header = function() {\n",
       "    var titlebar = $(\n",
       "        '<div class=\"ui-dialog-titlebar ui-widget-header ui-corner-all ' +\n",
       "        'ui-helper-clearfix\"/>');\n",
       "    var titletext = $(\n",
       "        '<div class=\"ui-dialog-title\" style=\"width: 100%; ' +\n",
       "        'text-align: center; padding: 3px;\"/>');\n",
       "    titlebar.append(titletext)\n",
       "    this.root.append(titlebar);\n",
       "    this.header = titletext[0];\n",
       "}\n",
       "\n",
       "\n",
       "\n",
       "mpl.figure.prototype._canvas_extra_style = function(canvas_div) {\n",
       "\n",
       "}\n",
       "\n",
       "\n",
       "mpl.figure.prototype._root_extra_style = function(canvas_div) {\n",
       "\n",
       "}\n",
       "\n",
       "mpl.figure.prototype._init_canvas = function() {\n",
       "    var fig = this;\n",
       "\n",
       "    var canvas_div = $('<div/>');\n",
       "\n",
       "    canvas_div.attr('style', 'position: relative; clear: both; outline: 0');\n",
       "\n",
       "    function canvas_keyboard_event(event) {\n",
       "        return fig.key_event(event, event['data']);\n",
       "    }\n",
       "\n",
       "    canvas_div.keydown('key_press', canvas_keyboard_event);\n",
       "    canvas_div.keyup('key_release', canvas_keyboard_event);\n",
       "    this.canvas_div = canvas_div\n",
       "    this._canvas_extra_style(canvas_div)\n",
       "    this.root.append(canvas_div);\n",
       "\n",
       "    var canvas = $('<canvas/>');\n",
       "    canvas.addClass('mpl-canvas');\n",
       "    canvas.attr('style', \"left: 0; top: 0; z-index: 0; outline: 0\")\n",
       "\n",
       "    this.canvas = canvas[0];\n",
       "    this.context = canvas[0].getContext(\"2d\");\n",
       "\n",
       "    var backingStore = this.context.backingStorePixelRatio ||\n",
       "\tthis.context.webkitBackingStorePixelRatio ||\n",
       "\tthis.context.mozBackingStorePixelRatio ||\n",
       "\tthis.context.msBackingStorePixelRatio ||\n",
       "\tthis.context.oBackingStorePixelRatio ||\n",
       "\tthis.context.backingStorePixelRatio || 1;\n",
       "\n",
       "    mpl.ratio = (window.devicePixelRatio || 1) / backingStore;\n",
       "\n",
       "    var rubberband = $('<canvas/>');\n",
       "    rubberband.attr('style', \"position: absolute; left: 0; top: 0; z-index: 1;\")\n",
       "\n",
       "    var pass_mouse_events = true;\n",
       "\n",
       "    canvas_div.resizable({\n",
       "        start: function(event, ui) {\n",
       "            pass_mouse_events = false;\n",
       "        },\n",
       "        resize: function(event, ui) {\n",
       "            fig.request_resize(ui.size.width, ui.size.height);\n",
       "        },\n",
       "        stop: function(event, ui) {\n",
       "            pass_mouse_events = true;\n",
       "            fig.request_resize(ui.size.width, ui.size.height);\n",
       "        },\n",
       "    });\n",
       "\n",
       "    function mouse_event_fn(event) {\n",
       "        if (pass_mouse_events)\n",
       "            return fig.mouse_event(event, event['data']);\n",
       "    }\n",
       "\n",
       "    rubberband.mousedown('button_press', mouse_event_fn);\n",
       "    rubberband.mouseup('button_release', mouse_event_fn);\n",
       "    // Throttle sequential mouse events to 1 every 20ms.\n",
       "    rubberband.mousemove('motion_notify', mouse_event_fn);\n",
       "\n",
       "    rubberband.mouseenter('figure_enter', mouse_event_fn);\n",
       "    rubberband.mouseleave('figure_leave', mouse_event_fn);\n",
       "\n",
       "    canvas_div.on(\"wheel\", function (event) {\n",
       "        event = event.originalEvent;\n",
       "        event['data'] = 'scroll'\n",
       "        if (event.deltaY < 0) {\n",
       "            event.step = 1;\n",
       "        } else {\n",
       "            event.step = -1;\n",
       "        }\n",
       "        mouse_event_fn(event);\n",
       "    });\n",
       "\n",
       "    canvas_div.append(canvas);\n",
       "    canvas_div.append(rubberband);\n",
       "\n",
       "    this.rubberband = rubberband;\n",
       "    this.rubberband_canvas = rubberband[0];\n",
       "    this.rubberband_context = rubberband[0].getContext(\"2d\");\n",
       "    this.rubberband_context.strokeStyle = \"#000000\";\n",
       "\n",
       "    this._resize_canvas = function(width, height) {\n",
       "        // Keep the size of the canvas, canvas container, and rubber band\n",
       "        // canvas in synch.\n",
       "        canvas_div.css('width', width)\n",
       "        canvas_div.css('height', height)\n",
       "\n",
       "        canvas.attr('width', width * mpl.ratio);\n",
       "        canvas.attr('height', height * mpl.ratio);\n",
       "        canvas.attr('style', 'width: ' + width + 'px; height: ' + height + 'px;');\n",
       "\n",
       "        rubberband.attr('width', width);\n",
       "        rubberband.attr('height', height);\n",
       "    }\n",
       "\n",
       "    // Set the figure to an initial 600x600px, this will subsequently be updated\n",
       "    // upon first draw.\n",
       "    this._resize_canvas(600, 600);\n",
       "\n",
       "    // Disable right mouse context menu.\n",
       "    $(this.rubberband_canvas).bind(\"contextmenu\",function(e){\n",
       "        return false;\n",
       "    });\n",
       "\n",
       "    function set_focus () {\n",
       "        canvas.focus();\n",
       "        canvas_div.focus();\n",
       "    }\n",
       "\n",
       "    window.setTimeout(set_focus, 100);\n",
       "}\n",
       "\n",
       "mpl.figure.prototype._init_toolbar = function() {\n",
       "    var fig = this;\n",
       "\n",
       "    var nav_element = $('<div/>')\n",
       "    nav_element.attr('style', 'width: 100%');\n",
       "    this.root.append(nav_element);\n",
       "\n",
       "    // Define a callback function for later on.\n",
       "    function toolbar_event(event) {\n",
       "        return fig.toolbar_button_onclick(event['data']);\n",
       "    }\n",
       "    function toolbar_mouse_event(event) {\n",
       "        return fig.toolbar_button_onmouseover(event['data']);\n",
       "    }\n",
       "\n",
       "    for(var toolbar_ind in mpl.toolbar_items) {\n",
       "        var name = mpl.toolbar_items[toolbar_ind][0];\n",
       "        var tooltip = mpl.toolbar_items[toolbar_ind][1];\n",
       "        var image = mpl.toolbar_items[toolbar_ind][2];\n",
       "        var method_name = mpl.toolbar_items[toolbar_ind][3];\n",
       "\n",
       "        if (!name) {\n",
       "            // put a spacer in here.\n",
       "            continue;\n",
       "        }\n",
       "        var button = $('<button/>');\n",
       "        button.addClass('ui-button ui-widget ui-state-default ui-corner-all ' +\n",
       "                        'ui-button-icon-only');\n",
       "        button.attr('role', 'button');\n",
       "        button.attr('aria-disabled', 'false');\n",
       "        button.click(method_name, toolbar_event);\n",
       "        button.mouseover(tooltip, toolbar_mouse_event);\n",
       "\n",
       "        var icon_img = $('<span/>');\n",
       "        icon_img.addClass('ui-button-icon-primary ui-icon');\n",
       "        icon_img.addClass(image);\n",
       "        icon_img.addClass('ui-corner-all');\n",
       "\n",
       "        var tooltip_span = $('<span/>');\n",
       "        tooltip_span.addClass('ui-button-text');\n",
       "        tooltip_span.html(tooltip);\n",
       "\n",
       "        button.append(icon_img);\n",
       "        button.append(tooltip_span);\n",
       "\n",
       "        nav_element.append(button);\n",
       "    }\n",
       "\n",
       "    var fmt_picker_span = $('<span/>');\n",
       "\n",
       "    var fmt_picker = $('<select/>');\n",
       "    fmt_picker.addClass('mpl-toolbar-option ui-widget ui-widget-content');\n",
       "    fmt_picker_span.append(fmt_picker);\n",
       "    nav_element.append(fmt_picker_span);\n",
       "    this.format_dropdown = fmt_picker[0];\n",
       "\n",
       "    for (var ind in mpl.extensions) {\n",
       "        var fmt = mpl.extensions[ind];\n",
       "        var option = $(\n",
       "            '<option/>', {selected: fmt === mpl.default_extension}).html(fmt);\n",
       "        fmt_picker.append(option)\n",
       "    }\n",
       "\n",
       "    // Add hover states to the ui-buttons\n",
       "    $( \".ui-button\" ).hover(\n",
       "        function() { $(this).addClass(\"ui-state-hover\");},\n",
       "        function() { $(this).removeClass(\"ui-state-hover\");}\n",
       "    );\n",
       "\n",
       "    var status_bar = $('<span class=\"mpl-message\"/>');\n",
       "    nav_element.append(status_bar);\n",
       "    this.message = status_bar[0];\n",
       "}\n",
       "\n",
       "mpl.figure.prototype.request_resize = function(x_pixels, y_pixels) {\n",
       "    // Request matplotlib to resize the figure. Matplotlib will then trigger a resize in the client,\n",
       "    // which will in turn request a refresh of the image.\n",
       "    this.send_message('resize', {'width': x_pixels, 'height': y_pixels});\n",
       "}\n",
       "\n",
       "mpl.figure.prototype.send_message = function(type, properties) {\n",
       "    properties['type'] = type;\n",
       "    properties['figure_id'] = this.id;\n",
       "    this.ws.send(JSON.stringify(properties));\n",
       "}\n",
       "\n",
       "mpl.figure.prototype.send_draw_message = function() {\n",
       "    if (!this.waiting) {\n",
       "        this.waiting = true;\n",
       "        this.ws.send(JSON.stringify({type: \"draw\", figure_id: this.id}));\n",
       "    }\n",
       "}\n",
       "\n",
       "\n",
       "mpl.figure.prototype.handle_save = function(fig, msg) {\n",
       "    var format_dropdown = fig.format_dropdown;\n",
       "    var format = format_dropdown.options[format_dropdown.selectedIndex].value;\n",
       "    fig.ondownload(fig, format);\n",
       "}\n",
       "\n",
       "\n",
       "mpl.figure.prototype.handle_resize = function(fig, msg) {\n",
       "    var size = msg['size'];\n",
       "    if (size[0] != fig.canvas.width || size[1] != fig.canvas.height) {\n",
       "        fig._resize_canvas(size[0], size[1]);\n",
       "        fig.send_message(\"refresh\", {});\n",
       "    };\n",
       "}\n",
       "\n",
       "mpl.figure.prototype.handle_rubberband = function(fig, msg) {\n",
       "    var x0 = msg['x0'] / mpl.ratio;\n",
       "    var y0 = (fig.canvas.height - msg['y0']) / mpl.ratio;\n",
       "    var x1 = msg['x1'] / mpl.ratio;\n",
       "    var y1 = (fig.canvas.height - msg['y1']) / mpl.ratio;\n",
       "    x0 = Math.floor(x0) + 0.5;\n",
       "    y0 = Math.floor(y0) + 0.5;\n",
       "    x1 = Math.floor(x1) + 0.5;\n",
       "    y1 = Math.floor(y1) + 0.5;\n",
       "    var min_x = Math.min(x0, x1);\n",
       "    var min_y = Math.min(y0, y1);\n",
       "    var width = Math.abs(x1 - x0);\n",
       "    var height = Math.abs(y1 - y0);\n",
       "\n",
       "    fig.rubberband_context.clearRect(\n",
       "        0, 0, fig.canvas.width, fig.canvas.height);\n",
       "\n",
       "    fig.rubberband_context.strokeRect(min_x, min_y, width, height);\n",
       "}\n",
       "\n",
       "mpl.figure.prototype.handle_figure_label = function(fig, msg) {\n",
       "    // Updates the figure title.\n",
       "    fig.header.textContent = msg['label'];\n",
       "}\n",
       "\n",
       "mpl.figure.prototype.handle_cursor = function(fig, msg) {\n",
       "    var cursor = msg['cursor'];\n",
       "    switch(cursor)\n",
       "    {\n",
       "    case 0:\n",
       "        cursor = 'pointer';\n",
       "        break;\n",
       "    case 1:\n",
       "        cursor = 'default';\n",
       "        break;\n",
       "    case 2:\n",
       "        cursor = 'crosshair';\n",
       "        break;\n",
       "    case 3:\n",
       "        cursor = 'move';\n",
       "        break;\n",
       "    }\n",
       "    fig.rubberband_canvas.style.cursor = cursor;\n",
       "}\n",
       "\n",
       "mpl.figure.prototype.handle_message = function(fig, msg) {\n",
       "    fig.message.textContent = msg['message'];\n",
       "}\n",
       "\n",
       "mpl.figure.prototype.handle_draw = function(fig, msg) {\n",
       "    // Request the server to send over a new figure.\n",
       "    fig.send_draw_message();\n",
       "}\n",
       "\n",
       "mpl.figure.prototype.handle_image_mode = function(fig, msg) {\n",
       "    fig.image_mode = msg['mode'];\n",
       "}\n",
       "\n",
       "mpl.figure.prototype.updated_canvas_event = function() {\n",
       "    // Called whenever the canvas gets updated.\n",
       "    this.send_message(\"ack\", {});\n",
       "}\n",
       "\n",
       "// A function to construct a web socket function for onmessage handling.\n",
       "// Called in the figure constructor.\n",
       "mpl.figure.prototype._make_on_message_function = function(fig) {\n",
       "    return function socket_on_message(evt) {\n",
       "        if (evt.data instanceof Blob) {\n",
       "            /* FIXME: We get \"Resource interpreted as Image but\n",
       "             * transferred with MIME type text/plain:\" errors on\n",
       "             * Chrome.  But how to set the MIME type?  It doesn't seem\n",
       "             * to be part of the websocket stream */\n",
       "            evt.data.type = \"image/png\";\n",
       "\n",
       "            /* Free the memory for the previous frames */\n",
       "            if (fig.imageObj.src) {\n",
       "                (window.URL || window.webkitURL).revokeObjectURL(\n",
       "                    fig.imageObj.src);\n",
       "            }\n",
       "\n",
       "            fig.imageObj.src = (window.URL || window.webkitURL).createObjectURL(\n",
       "                evt.data);\n",
       "            fig.updated_canvas_event();\n",
       "            fig.waiting = false;\n",
       "            return;\n",
       "        }\n",
       "        else if (typeof evt.data === 'string' && evt.data.slice(0, 21) == \"data:image/png;base64\") {\n",
       "            fig.imageObj.src = evt.data;\n",
       "            fig.updated_canvas_event();\n",
       "            fig.waiting = false;\n",
       "            return;\n",
       "        }\n",
       "\n",
       "        var msg = JSON.parse(evt.data);\n",
       "        var msg_type = msg['type'];\n",
       "\n",
       "        // Call the  \"handle_{type}\" callback, which takes\n",
       "        // the figure and JSON message as its only arguments.\n",
       "        try {\n",
       "            var callback = fig[\"handle_\" + msg_type];\n",
       "        } catch (e) {\n",
       "            console.log(\"No handler for the '\" + msg_type + \"' message type: \", msg);\n",
       "            return;\n",
       "        }\n",
       "\n",
       "        if (callback) {\n",
       "            try {\n",
       "                // console.log(\"Handling '\" + msg_type + \"' message: \", msg);\n",
       "                callback(fig, msg);\n",
       "            } catch (e) {\n",
       "                console.log(\"Exception inside the 'handler_\" + msg_type + \"' callback:\", e, e.stack, msg);\n",
       "            }\n",
       "        }\n",
       "    };\n",
       "}\n",
       "\n",
       "// from http://stackoverflow.com/questions/1114465/getting-mouse-location-in-canvas\n",
       "mpl.findpos = function(e) {\n",
       "    //this section is from http://www.quirksmode.org/js/events_properties.html\n",
       "    var targ;\n",
       "    if (!e)\n",
       "        e = window.event;\n",
       "    if (e.target)\n",
       "        targ = e.target;\n",
       "    else if (e.srcElement)\n",
       "        targ = e.srcElement;\n",
       "    if (targ.nodeType == 3) // defeat Safari bug\n",
       "        targ = targ.parentNode;\n",
       "\n",
       "    // jQuery normalizes the pageX and pageY\n",
       "    // pageX,Y are the mouse positions relative to the document\n",
       "    // offset() returns the position of the element relative to the document\n",
       "    var x = e.pageX - $(targ).offset().left;\n",
       "    var y = e.pageY - $(targ).offset().top;\n",
       "\n",
       "    return {\"x\": x, \"y\": y};\n",
       "};\n",
       "\n",
       "/*\n",
       " * return a copy of an object with only non-object keys\n",
       " * we need this to avoid circular references\n",
       " * http://stackoverflow.com/a/24161582/3208463\n",
       " */\n",
       "function simpleKeys (original) {\n",
       "  return Object.keys(original).reduce(function (obj, key) {\n",
       "    if (typeof original[key] !== 'object')\n",
       "        obj[key] = original[key]\n",
       "    return obj;\n",
       "  }, {});\n",
       "}\n",
       "\n",
       "mpl.figure.prototype.mouse_event = function(event, name) {\n",
       "    var canvas_pos = mpl.findpos(event)\n",
       "\n",
       "    if (name === 'button_press')\n",
       "    {\n",
       "        this.canvas.focus();\n",
       "        this.canvas_div.focus();\n",
       "    }\n",
       "\n",
       "    var x = canvas_pos.x * mpl.ratio;\n",
       "    var y = canvas_pos.y * mpl.ratio;\n",
       "\n",
       "    this.send_message(name, {x: x, y: y, button: event.button,\n",
       "                             step: event.step,\n",
       "                             guiEvent: simpleKeys(event)});\n",
       "\n",
       "    /* This prevents the web browser from automatically changing to\n",
       "     * the text insertion cursor when the button is pressed.  We want\n",
       "     * to control all of the cursor setting manually through the\n",
       "     * 'cursor' event from matplotlib */\n",
       "    event.preventDefault();\n",
       "    return false;\n",
       "}\n",
       "\n",
       "mpl.figure.prototype._key_event_extra = function(event, name) {\n",
       "    // Handle any extra behaviour associated with a key event\n",
       "}\n",
       "\n",
       "mpl.figure.prototype.key_event = function(event, name) {\n",
       "\n",
       "    // Prevent repeat events\n",
       "    if (name == 'key_press')\n",
       "    {\n",
       "        if (event.which === this._key)\n",
       "            return;\n",
       "        else\n",
       "            this._key = event.which;\n",
       "    }\n",
       "    if (name == 'key_release')\n",
       "        this._key = null;\n",
       "\n",
       "    var value = '';\n",
       "    if (event.ctrlKey && event.which != 17)\n",
       "        value += \"ctrl+\";\n",
       "    if (event.altKey && event.which != 18)\n",
       "        value += \"alt+\";\n",
       "    if (event.shiftKey && event.which != 16)\n",
       "        value += \"shift+\";\n",
       "\n",
       "    value += 'k';\n",
       "    value += event.which.toString();\n",
       "\n",
       "    this._key_event_extra(event, name);\n",
       "\n",
       "    this.send_message(name, {key: value,\n",
       "                             guiEvent: simpleKeys(event)});\n",
       "    return false;\n",
       "}\n",
       "\n",
       "mpl.figure.prototype.toolbar_button_onclick = function(name) {\n",
       "    if (name == 'download') {\n",
       "        this.handle_save(this, null);\n",
       "    } else {\n",
       "        this.send_message(\"toolbar_button\", {name: name});\n",
       "    }\n",
       "};\n",
       "\n",
       "mpl.figure.prototype.toolbar_button_onmouseover = function(tooltip) {\n",
       "    this.message.textContent = tooltip;\n",
       "};\n",
       "mpl.toolbar_items = [[\"Home\", \"Reset original view\", \"fa fa-home icon-home\", \"home\"], [\"Back\", \"Back to  previous view\", \"fa fa-arrow-left icon-arrow-left\", \"back\"], [\"Forward\", \"Forward to next view\", \"fa fa-arrow-right icon-arrow-right\", \"forward\"], [\"\", \"\", \"\", \"\"], [\"Pan\", \"Pan axes with left mouse, zoom with right\", \"fa fa-arrows icon-move\", \"pan\"], [\"Zoom\", \"Zoom to rectangle\", \"fa fa-square-o icon-check-empty\", \"zoom\"], [\"\", \"\", \"\", \"\"], [\"Download\", \"Download plot\", \"fa fa-floppy-o icon-save\", \"download\"]];\n",
       "\n",
       "mpl.extensions = [\"eps\", \"jpeg\", \"pdf\", \"png\", \"ps\", \"raw\", \"svg\", \"tif\"];\n",
       "\n",
       "mpl.default_extension = \"png\";var comm_websocket_adapter = function(comm) {\n",
       "    // Create a \"websocket\"-like object which calls the given IPython comm\n",
       "    // object with the appropriate methods. Currently this is a non binary\n",
       "    // socket, so there is still some room for performance tuning.\n",
       "    var ws = {};\n",
       "\n",
       "    ws.close = function() {\n",
       "        comm.close()\n",
       "    };\n",
       "    ws.send = function(m) {\n",
       "        //console.log('sending', m);\n",
       "        comm.send(m);\n",
       "    };\n",
       "    // Register the callback with on_msg.\n",
       "    comm.on_msg(function(msg) {\n",
       "        //console.log('receiving', msg['content']['data'], msg);\n",
       "        // Pass the mpl event to the overriden (by mpl) onmessage function.\n",
       "        ws.onmessage(msg['content']['data'])\n",
       "    });\n",
       "    return ws;\n",
       "}\n",
       "\n",
       "mpl.mpl_figure_comm = function(comm, msg) {\n",
       "    // This is the function which gets called when the mpl process\n",
       "    // starts-up an IPython Comm through the \"matplotlib\" channel.\n",
       "\n",
       "    var id = msg.content.data.id;\n",
       "    // Get hold of the div created by the display call when the Comm\n",
       "    // socket was opened in Python.\n",
       "    var element = $(\"#\" + id);\n",
       "    var ws_proxy = comm_websocket_adapter(comm)\n",
       "\n",
       "    function ondownload(figure, format) {\n",
       "        window.open(figure.imageObj.src);\n",
       "    }\n",
       "\n",
       "    var fig = new mpl.figure(id, ws_proxy,\n",
       "                           ondownload,\n",
       "                           element.get(0));\n",
       "\n",
       "    // Call onopen now - mpl needs it, as it is assuming we've passed it a real\n",
       "    // web socket which is closed, not our websocket->open comm proxy.\n",
       "    ws_proxy.onopen();\n",
       "\n",
       "    fig.parent_element = element.get(0);\n",
       "    fig.cell_info = mpl.find_output_cell(\"<div id='\" + id + \"'></div>\");\n",
       "    if (!fig.cell_info) {\n",
       "        console.error(\"Failed to find cell for figure\", id, fig);\n",
       "        return;\n",
       "    }\n",
       "\n",
       "    var output_index = fig.cell_info[2]\n",
       "    var cell = fig.cell_info[0];\n",
       "\n",
       "};\n",
       "\n",
       "mpl.figure.prototype.handle_close = function(fig, msg) {\n",
       "    var width = fig.canvas.width/mpl.ratio\n",
       "    fig.root.unbind('remove')\n",
       "\n",
       "    // Update the output cell to use the data from the current canvas.\n",
       "    fig.push_to_output();\n",
       "    var dataURL = fig.canvas.toDataURL();\n",
       "    // Re-enable the keyboard manager in IPython - without this line, in FF,\n",
       "    // the notebook keyboard shortcuts fail.\n",
       "    IPython.keyboard_manager.enable()\n",
       "    $(fig.parent_element).html('<img src=\"' + dataURL + '\" width=\"' + width + '\">');\n",
       "    fig.close_ws(fig, msg);\n",
       "}\n",
       "\n",
       "mpl.figure.prototype.close_ws = function(fig, msg){\n",
       "    fig.send_message('closing', msg);\n",
       "    // fig.ws.close()\n",
       "}\n",
       "\n",
       "mpl.figure.prototype.push_to_output = function(remove_interactive) {\n",
       "    // Turn the data on the canvas into data in the output cell.\n",
       "    var width = this.canvas.width/mpl.ratio\n",
       "    var dataURL = this.canvas.toDataURL();\n",
       "    this.cell_info[1]['text/html'] = '<img src=\"' + dataURL + '\" width=\"' + width + '\">';\n",
       "}\n",
       "\n",
       "mpl.figure.prototype.updated_canvas_event = function() {\n",
       "    // Tell IPython that the notebook contents must change.\n",
       "    IPython.notebook.set_dirty(true);\n",
       "    this.send_message(\"ack\", {});\n",
       "    var fig = this;\n",
       "    // Wait a second, then push the new image to the DOM so\n",
       "    // that it is saved nicely (might be nice to debounce this).\n",
       "    setTimeout(function () { fig.push_to_output() }, 1000);\n",
       "}\n",
       "\n",
       "mpl.figure.prototype._init_toolbar = function() {\n",
       "    var fig = this;\n",
       "\n",
       "    var nav_element = $('<div/>')\n",
       "    nav_element.attr('style', 'width: 100%');\n",
       "    this.root.append(nav_element);\n",
       "\n",
       "    // Define a callback function for later on.\n",
       "    function toolbar_event(event) {\n",
       "        return fig.toolbar_button_onclick(event['data']);\n",
       "    }\n",
       "    function toolbar_mouse_event(event) {\n",
       "        return fig.toolbar_button_onmouseover(event['data']);\n",
       "    }\n",
       "\n",
       "    for(var toolbar_ind in mpl.toolbar_items){\n",
       "        var name = mpl.toolbar_items[toolbar_ind][0];\n",
       "        var tooltip = mpl.toolbar_items[toolbar_ind][1];\n",
       "        var image = mpl.toolbar_items[toolbar_ind][2];\n",
       "        var method_name = mpl.toolbar_items[toolbar_ind][3];\n",
       "\n",
       "        if (!name) { continue; };\n",
       "\n",
       "        var button = $('<button class=\"btn btn-default\" href=\"#\" title=\"' + name + '\"><i class=\"fa ' + image + ' fa-lg\"></i></button>');\n",
       "        button.click(method_name, toolbar_event);\n",
       "        button.mouseover(tooltip, toolbar_mouse_event);\n",
       "        nav_element.append(button);\n",
       "    }\n",
       "\n",
       "    // Add the status bar.\n",
       "    var status_bar = $('<span class=\"mpl-message\" style=\"text-align:right; float: right;\"/>');\n",
       "    nav_element.append(status_bar);\n",
       "    this.message = status_bar[0];\n",
       "\n",
       "    // Add the close button to the window.\n",
       "    var buttongrp = $('<div class=\"btn-group inline pull-right\"></div>');\n",
       "    var button = $('<button class=\"btn btn-mini btn-primary\" href=\"#\" title=\"Stop Interaction\"><i class=\"fa fa-power-off icon-remove icon-large\"></i></button>');\n",
       "    button.click(function (evt) { fig.handle_close(fig, {}); } );\n",
       "    button.mouseover('Stop Interaction', toolbar_mouse_event);\n",
       "    buttongrp.append(button);\n",
       "    var titlebar = this.root.find($('.ui-dialog-titlebar'));\n",
       "    titlebar.prepend(buttongrp);\n",
       "}\n",
       "\n",
       "mpl.figure.prototype._root_extra_style = function(el){\n",
       "    var fig = this\n",
       "    el.on(\"remove\", function(){\n",
       "\tfig.close_ws(fig, {});\n",
       "    });\n",
       "}\n",
       "\n",
       "mpl.figure.prototype._canvas_extra_style = function(el){\n",
       "    // this is important to make the div 'focusable\n",
       "    el.attr('tabindex', 0)\n",
       "    // reach out to IPython and tell the keyboard manager to turn it's self\n",
       "    // off when our div gets focus\n",
       "\n",
       "    // location in version 3\n",
       "    if (IPython.notebook.keyboard_manager) {\n",
       "        IPython.notebook.keyboard_manager.register_events(el);\n",
       "    }\n",
       "    else {\n",
       "        // location in version 2\n",
       "        IPython.keyboard_manager.register_events(el);\n",
       "    }\n",
       "\n",
       "}\n",
       "\n",
       "mpl.figure.prototype._key_event_extra = function(event, name) {\n",
       "    var manager = IPython.notebook.keyboard_manager;\n",
       "    if (!manager)\n",
       "        manager = IPython.keyboard_manager;\n",
       "\n",
       "    // Check for shift+enter\n",
       "    if (event.shiftKey && event.which == 13) {\n",
       "        this.canvas_div.blur();\n",
       "        // select the cell after this one\n",
       "        var index = IPython.notebook.find_cell_index(this.cell_info[0]);\n",
       "        IPython.notebook.select(index + 1);\n",
       "    }\n",
       "}\n",
       "\n",
       "mpl.figure.prototype.handle_save = function(fig, msg) {\n",
       "    fig.ondownload(fig, null);\n",
       "}\n",
       "\n",
       "\n",
       "mpl.find_output_cell = function(html_output) {\n",
       "    // Return the cell and output element which can be found *uniquely* in the notebook.\n",
       "    // Note - this is a bit hacky, but it is done because the \"notebook_saving.Notebook\"\n",
       "    // IPython event is triggered only after the cells have been serialised, which for\n",
       "    // our purposes (turning an active figure into a static one), is too late.\n",
       "    var cells = IPython.notebook.get_cells();\n",
       "    var ncells = cells.length;\n",
       "    for (var i=0; i<ncells; i++) {\n",
       "        var cell = cells[i];\n",
       "        if (cell.cell_type === 'code'){\n",
       "            for (var j=0; j<cell.output_area.outputs.length; j++) {\n",
       "                var data = cell.output_area.outputs[j];\n",
       "                if (data.data) {\n",
       "                    // IPython >= 3 moved mimebundle to data attribute of output\n",
       "                    data = data.data;\n",
       "                }\n",
       "                if (data['text/html'] == html_output) {\n",
       "                    return [cell, data, j];\n",
       "                }\n",
       "            }\n",
       "        }\n",
       "    }\n",
       "}\n",
       "\n",
       "// Register the function which deals with the matplotlib target/channel.\n",
       "// The kernel may be null if the page has been refreshed.\n",
       "if (IPython.notebook.kernel != null) {\n",
       "    IPython.notebook.kernel.comm_manager.register_target('matplotlib', mpl.mpl_figure_comm);\n",
       "}\n"
      ],
      "text/plain": [
       "<IPython.core.display.Javascript object>"
      ]
     },
     "metadata": {},
     "output_type": "display_data"
    },
    {
     "data": {
      "text/html": [
       "<img src=\"data:image/png;base64,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\" width=\"800\">"
      ],
      "text/plain": [
       "<IPython.core.display.HTML object>"
      ]
     },
     "metadata": {},
     "output_type": "display_data"
    },
    {
     "data": {
      "text/plain": [
       "[<matplotlib.lines.Line2D at 0x7efc7d3c5be0>]"
      ]
     },
     "execution_count": 191,
     "metadata": {},
     "output_type": "execute_result"
    }
   ],
   "source": [
    "fig, axes = plt.subplots(nrows=3, ncols=1, figsize=(8, 4), sharex = True)\n",
    "\n",
    "axes[0].plot(t, v_a)\n",
    "axes[0].plot(t, v_b)\n",
    "axes[0].plot(t, v_c)\n",
    "\n",
    "axes[1].plot(t, i_a)\n",
    "axes[1].plot(t, i_b)\n",
    "axes[1].plot(t, i_c)\n",
    "\n",
    "axes[2].plot(t, p/1000)\n",
    "axes[2].plot(t, q/1000)"
   ]
  },
  {
   "cell_type": "markdown",
   "metadata": {},
   "source": [
    "### Reference following check"
   ]
  },
  {
   "cell_type": "code",
   "execution_count": 192,
   "metadata": {},
   "outputs": [
    {
     "name": "stdout",
     "output_type": "stream",
     "text": [
      "214.16303762 [ 214.16303762]\n",
      "0.0 [ -9.40609961e-12]\n",
      "-46.3676577827 [-46.36765778]\n",
      "-7.45434746589e-15 [  5.29680241e-12]\n",
      "p_cte_ref_ref = 99999.9999999998\n",
      "p_cos_ref_ref = -5.09317032992841e-11\n",
      "p_sin_ref_ref = 3.59621202825744e-9\n",
      "q_cte_ref_ref = 4.04542751205649e-9\n",
      "q_cos_ref_ref = -1.59357324446268e-9\n",
      "q_sin_ref_ref = -45430.8408542657\n"
     ]
    }
   ],
   "source": [
    "I_012 = A_a0 @ I_abc \n",
    "i_dq_z_out = I_012[0]*np.exp(-1j*theta_pll)*np.sqrt(2)\n",
    "i_dq_p_out = I_012[1]*np.exp(-1j*theta_pll)*np.sqrt(2)\n",
    "i_dq_n_out = I_012[2]*np.exp(-1j*theta_pll)*np.sqrt(2)\n",
    "\n",
    "i_d_p = i_dq_p_out.real\n",
    "i_q_p = i_dq_p_out.imag\n",
    "i_d_n = i_dq_n_out.real\n",
    "i_q_n = i_dq_n_out.imag\n",
    "\n",
    "print(i_d_p_ref,i_dq_p_out.real)\n",
    "print(i_q_p_ref,i_dq_p_out.imag)\n",
    "print(i_d_n_ref,i_dq_n_out.real)\n",
    "print(i_q_n_ref,i_dq_n_out.imag)\n",
    "\n",
    "p_cte_ref = 1.5*i_d_n*v_d_n + 1.5*i_d_p*v_d_p + 1.5*i_q_n*v_q_n + 1.5*i_q_p*v_q_p\n",
    "p_cos_ref = 1.5*i_d_n*v_d_p + 1.5*i_d_p*v_d_n + 1.5*i_q_n*v_q_p + 1.5*i_q_p*v_q_n\n",
    "p_sin_ref =-1.5*i_d_n*v_q_p + 1.5*i_d_p*v_q_n + 1.5*i_q_n*v_d_p - 1.5*i_q_p*v_d_n\n",
    "q_cte_ref = 1.5*i_d_n*v_q_n + 1.5*i_d_p*v_q_p - 1.5*i_q_n*v_d_n - 1.5*i_q_p*v_d_p\n",
    "q_cos_ref = 1.5*i_d_n*v_q_p + 1.5*i_d_p*v_q_n - 1.5*i_q_n*v_d_p - 1.5*i_q_p*v_d_n\n",
    "q_sin_ref = 1.5*i_d_n*v_d_p - 1.5*i_d_p*v_d_n + 1.5*i_q_n*v_q_p - 1.5*i_q_p*v_q_n\n",
    "\n",
    "lhs = ['p_cte_ref','p_cos_ref','p_sin_ref','q_cte_ref','q_cos_ref','q_sin_ref']\n",
    "rhs = [p_cte_ref,p_cos_ref,p_sin_ref,q_cte_ref,q_cos_ref,q_sin_ref]\n",
    "for lh,rh in zip(lhs,rhs):\n",
    "    print('{:s}_ref = {:s}'.format(str(lh) ,str(sym.simplify(rh))))\n"
   ]
  },
  {
   "cell_type": "markdown",
   "metadata": {},
   "source": [
    "### Positive sequence calculation"
   ]
  },
  {
   "cell_type": "code",
   "execution_count": null,
   "metadata": {
    "collapsed": true
   },
   "outputs": [],
   "source": [
    "Z = R +1j *L*omega\n",
    "I_pos = (e_p - v_p)/Z\n",
    "I_pos"
   ]
  },
  {
   "cell_type": "code",
   "execution_count": null,
   "metadata": {
    "collapsed": true
   },
   "outputs": [],
   "source": [
    "S  =V_abc.T @ np.conj(I_abc)\n",
    "S"
   ]
  },
  {
   "cell_type": "code",
   "execution_count": null,
   "metadata": {
    "collapsed": true
   },
   "outputs": [],
   "source": [
    "I_012 = A_a0 @ I_abc \n",
    "I_012*np.sqrt(2)"
   ]
  },
  {
   "cell_type": "code",
   "execution_count": null,
   "metadata": {
    "collapsed": true
   },
   "outputs": [],
   "source": [
    "import sympy as sym"
   ]
  },
  {
   "cell_type": "code",
   "execution_count": null,
   "metadata": {
    "collapsed": true
   },
   "outputs": [],
   "source": [
    "v_d_p,v_q_p,v_d_n,v_q_n = sym.symbols('v_d_p,v_q_p,v_d_n,v_q_n')\n",
    "\n",
    "i2p = sym.Matrix([[ v_d_p, v_q_p, v_d_n, v_q_n],\n",
    "                  [-v_q_p, v_d_p,-v_q_n, v_d_n],\n",
    "                  [-v_q_n, v_d_n, v_q_p,-v_d_p],\n",
    "                  [ v_d_n, v_q_n, v_d_p, v_q_p]])\n",
    "\n",
    "\n",
    "p2i = sym.simplify(i2p.inv())"
   ]
  },
  {
   "cell_type": "code",
   "execution_count": null,
   "metadata": {
    "collapsed": true
   },
   "outputs": [],
   "source": [
    "sym.simplify(p2i)"
   ]
  },
  {
   "cell_type": "code",
   "execution_count": null,
   "metadata": {
    "collapsed": true
   },
   "outputs": [],
   "source": [
    "theta = np.deg2rad(0.0)\n",
    "phi = np.deg2rad(90.0)\n",
    "V_zero =  0.0*np.exp(1j*0.0)\n",
    "V_neg  =100.0*np.exp(1j*0.0)\n",
    "V_pos  =231.0*np.exp(1j*theta)\n",
    "\n",
    "V_012 = np.array([[V_zero],[V_pos],[V_neg]])\n",
    "\n",
    "V_abc = A_0a @ V_012\n",
    "\n",
    "I_zero =   0.0*np.exp(1j*0.0)\n",
    "I_neg  =   0.0*np.exp(1j*(theta+phi))\n",
    "I_pos  = 10.0*np.exp(1j*(theta-phi))\n",
    "\n",
    "s_012 = 500e3\n",
    "sin_012 = 0.0\n",
    "cos_012 = 0.0\n",
    "I_pos = (V_neg*sin_012 - V_pos*s_012)/(3*(V_neg**2 - V_pos**2))\n",
    "I_neg = (V_neg*s_012 - V_pos*sin_012)/(3*(V_neg**2 - V_pos**2))\n",
    "\n",
    "#I_pos = (-V_neg*sin_012 + V_pos*s_012)/(3*(V_neg**2 + V_pos**2))\n",
    "#I_neg = ( V_neg*s_012 + V_pos*sin_012)/(3*(V_neg**2 + V_pos**2))\n",
    "#I = 1j\n",
    "#I_pos = 0.333333333333333*(V_neg*sin_012 - V_pos*s_012*(1.0 + I))/(V_neg**2*(1.0 - I) - V_pos**2*(1.0 + I))\n",
    "#I_neg = 0.333333333333333*(V_neg*s_012*(1.0 - I) - V_pos*sin_012)/(V_neg**2*(1.0 - I) - V_pos**2*(1.0 + I))\n",
    "\n",
    "#I_pos = 0.333333333333333*(V_neg*sin_012 - V_pos*s_012*(1.0 - I))/(V_neg**2*(1.0 + I) - V_pos**2*(1.0 - I))\n",
    "#I_neg = 0.333333333333333*(V_neg*s_012*(1.0 + I) - V_pos*sin_012)/(V_neg**2*(1.0 + I) - V_pos**2*(1.0 - I))\n",
    "\n",
    "#I_pos = 0.333333333333333*(I*V_neg*cos_012 + V_pos*s_012)/(V_neg**2 + V_pos**2)\n",
    "#I_neg = 0.333333333333333*(V_neg*s_012 - I*V_pos*cos_012)/(V_neg**2 + V_pos**2)\n",
    "\n",
    "#I_pos= (0.166666666666667 - 0.166666666666667*I)*(V_neg*(cos_012 + sin_012) - V_pos*s_012*(1.0 + I))/(V_neg**2 - V_pos**2)\n",
    "#I_neg= (0.166666666666667 - 0.166666666666667*I)*(V_neg*s_012*(1.0 + I) - V_pos*(cos_012 + sin_012))/(V_neg**2 - V_pos**2)\n",
    "\n",
    "#I_neg = (cos_012 + sin_012)/(6*V_pos)\n",
    "#I_pos = (-V_neg*(cos_012 + sin_012) + 2*V_pos*s_012)/(6*V_pos**2)\n",
    "I_pos = np.conj(s_012/(3*V_pos))\n",
    "I_neg = -V_neg*I_pos/(V_pos)\n",
    "\n",
    "I_012 = np.array([[I_zero],[I_pos],[I_neg]])\n",
    "\n",
    "I_abc = A_0a @ I_012\n"
   ]
  },
  {
   "cell_type": "code",
   "execution_count": null,
   "metadata": {
    "collapsed": true
   },
   "outputs": [],
   "source": [
    "v_abc = (np.exp(1j*2.0*np.pi*50.0*t)*V_abc).real*np.sqrt(2)\n",
    "i_abc = (np.exp(1j*2.0*np.pi*50.0*t)*I_abc).real*np.sqrt(2)\n",
    "\n",
    "p = np.sum(v_abc * i_abc, axis=0)\n",
    "q = -((v_abc[1]- v_abc[2]) * i_abc[0] + (v_abc[2]- v_abc[0]) * i_abc[1]  + (v_abc[0]- v_abc[1]) * i_abc[2] )/np.sqrt(3)"
   ]
  },
  {
   "cell_type": "code",
   "execution_count": null,
   "metadata": {
    "collapsed": true
   },
   "outputs": [],
   "source": [
    "fig, axes = plt.subplots(nrows=3, ncols=1, figsize=(8, 6), sharex = True)\n",
    "\n",
    "axes[0].plot(t, v_abc[0,:])\n",
    "axes[0].plot(t, v_abc[1,:])\n",
    "axes[0].plot(t, v_abc[2,:])\n",
    "\n",
    "axes[1].plot(t, i_abc[0,:])\n",
    "axes[1].plot(t, i_abc[1,:])\n",
    "axes[1].plot(t, i_abc[2,:])\n",
    "\n",
    "axes[2].plot(t, p/1000)\n",
    "axes[2].plot(t, q/1000)"
   ]
  },
  {
   "cell_type": "code",
   "execution_count": null,
   "metadata": {
    "collapsed": true
   },
   "outputs": [],
   "source": [
    "3*V_pos*I_pos"
   ]
  },
  {
   "cell_type": "code",
   "execution_count": null,
   "metadata": {
    "collapsed": true
   },
   "outputs": [],
   "source": [
    "3*V_neg*I_neg"
   ]
  },
  {
   "cell_type": "code",
   "execution_count": null,
   "metadata": {
    "collapsed": true
   },
   "outputs": [],
   "source": [
    "s_012 = 3*V_pos*I_pos + 3*V_neg*I_neg"
   ]
  },
  {
   "cell_type": "code",
   "execution_count": null,
   "metadata": {
    "collapsed": true
   },
   "outputs": [],
   "source": [
    "s_012"
   ]
  },
  {
   "cell_type": "code",
   "execution_count": null,
   "metadata": {
    "collapsed": true
   },
   "outputs": [],
   "source": [
    "sin_012 = 3*V_pos*I_neg + 3*V_neg*I_pos \n",
    "cos_012 = 3*V_pos*I_neg - 3*V_neg*I_pos"
   ]
  },
  {
   "cell_type": "code",
   "execution_count": null,
   "metadata": {
    "collapsed": true
   },
   "outputs": [],
   "source": [
    "print(sin_012,cos_012)"
   ]
  },
  {
   "cell_type": "code",
   "execution_count": null,
   "metadata": {
    "collapsed": true
   },
   "outputs": [],
   "source": [
    "s_012,sin_012,cos_012,V_pos,I_pos,V_neg,I_neg = sym.symbols('s_012,sin_012,cos_012,V_pos,I_pos,V_neg,I_neg ')\n",
    "\n",
    "sin_012_ = 3*V_pos*I_neg + 3*V_neg*I_pos \n",
    "cos_012_ = 3*V_pos*I_neg - 3*V_neg*I_pos\n",
    "\n",
    "eq1 = -s_012 + 3*V_pos*I_pos + 3*V_neg*I_neg\n",
    "eq2 = sin_012-sin_012_ - cos_012+cos_012_\n",
    "sym.solve([eq1,eq2],[I_pos,I_neg])"
   ]
  },
  {
   "cell_type": "code",
   "execution_count": null,
   "metadata": {
    "collapsed": true
   },
   "outputs": [],
   "source": []
  },
  {
   "cell_type": "code",
   "execution_count": null,
   "metadata": {
    "collapsed": true
   },
   "outputs": [],
   "source": [
    "I_pos"
   ]
  },
  {
   "cell_type": "code",
   "execution_count": null,
   "metadata": {
    "collapsed": true
   },
   "outputs": [],
   "source": [
    "from sympy.functions import re,im\n",
    "\n",
    "v_d_p,v_q_p,v_d_n,v_q_n,i_d_p,i_q_p,i_d_n,i_q_n,wt = sym.symbols('v_d_p,v_q_p,v_d_n,v_q_n,i_d_p,i_q_p,i_d_n,i_q_n,wt',real=True)\n",
    "p_ref,q_ref = sym.symbols('p_ref,q_ref',real=True)\n",
    "\n",
    "exp_p = sym.cos( wt)+1j*sym.sin( wt)\n",
    "exp_n = sym.cos(-wt)+1j*sym.sin(-wt)\n",
    "\n",
    "v_dq_p = v_d_p + 1j*v_q_p\n",
    "v_dq_n = v_d_n + 1j*v_q_n\n",
    "i_dq_p = i_d_p + 1j*i_q_p\n",
    "i_dq_n = i_d_n + 1j*i_q_n\n",
    "\n",
    "s = 3/2*(v_dq_p*exp_p + v_dq_n*exp_n)*sym.conjugate(i_dq_p*exp_p + i_dq_n*exp_n)\n",
    "s = sym.simplify(sym.factor(sym.expand(s)))\n"
   ]
  },
  {
   "cell_type": "code",
   "execution_count": null,
   "metadata": {
    "collapsed": true
   },
   "outputs": [],
   "source": [
    "p = sym.collect(re(s),[sym.cos(2*wt),sym.sin(2*wt)])\n",
    "q = sym.collect(im(s),[sym.cos(2*wt),sym.sin(2*wt)])"
   ]
  },
  {
   "cell_type": "code",
   "execution_count": null,
   "metadata": {
    "collapsed": true
   },
   "outputs": [],
   "source": [
    "s"
   ]
  },
  {
   "cell_type": "code",
   "execution_count": null,
   "metadata": {
    "collapsed": true
   },
   "outputs": [],
   "source": [
    "p_cos = p.diff(sym.cos(2*wt))\n",
    "p_sin = p.diff(sym.sin(2*wt))\n",
    "p_cte = sym.simplify(p - p_cos*sym.cos(2*wt) - p_sin*sym.sin(2*wt))\n",
    "q_cos = q.diff(sym.cos(2*wt))\n",
    "q_sin = q.diff(sym.sin(2*wt))\n",
    "q_cte = sym.simplify(q - q_cos*sym.cos(2*wt) - q_sin*sym.sin(2*wt))"
   ]
  },
  {
   "cell_type": "code",
   "execution_count": null,
   "metadata": {
    "collapsed": true
   },
   "outputs": [],
   "source": [
    "lhs = ['p_cte','p_cos','p_sin','q_cte','q_cos','q_sin']\n",
    "rhs = [p_cte,p_cos,p_sin,q_cte,q_cos,q_sin]\n",
    "for lh,rh in zip(lhs,rhs):\n",
    "    print('{:s}_ref = {:s}'.format(str(lh) ,str(sym.simplify(rh))))"
   ]
  },
  {
   "cell_type": "markdown",
   "metadata": {
    "collapsed": true
   },
   "source": [
    "### References for p constant"
   ]
  },
  {
   "cell_type": "code",
   "execution_count": null,
   "metadata": {
    "collapsed": true
   },
   "outputs": [],
   "source": [
    "sol = sym.solve([p_cte-p_ref,q_cte-q_ref,p_cos,p_sin],[i_d_p,i_q_p,i_d_n,i_q_n])\n",
    "for item in [i_d_p,i_q_p,i_d_n,i_q_n]:\n",
    "    print('{:s}_ref = {:s}'.format(str(item) ,str(sym.simplify(sol[item]))))"
   ]
  },
  {
   "cell_type": "markdown",
   "metadata": {},
   "source": [
    "### References for q constant"
   ]
  },
  {
   "cell_type": "code",
   "execution_count": null,
   "metadata": {
    "collapsed": true
   },
   "outputs": [],
   "source": [
    "sol = sym.solve([p_cte-p_ref,q_cte-q_ref,q_cos,q_sin],[i_d_p,i_q_p,i_d_n,i_q_n])\n",
    "for item in [i_d_p,i_q_p,i_d_n,i_q_n]:\n",
    "    print('{:s}_ref = {:s}'.format(str(item) ,str(sym.simplify(sol[item]))))"
   ]
  },
  {
   "cell_type": "markdown",
   "metadata": {},
   "source": [
    "### References for p and q constant"
   ]
  },
  {
   "cell_type": "code",
   "execution_count": null,
   "metadata": {
    "collapsed": true
   },
   "outputs": [],
   "source": [
    "sol = sym.solve([p_cte-p_ref,q_cte-q_ref,p_cos,q_sin],[i_d_p,i_q_p,i_d_n,i_q_n])\n",
    "for item in [i_d_p,i_q_p,i_d_n,i_q_n]:\n",
    "    print('{:s}_ref = {:s}'.format(str(item) ,str(sym.simplify(sol[item]))))"
   ]
  },
  {
   "cell_type": "code",
   "execution_count": null,
   "metadata": {
    "collapsed": true
   },
   "outputs": [],
   "source": []
  },
  {
   "cell_type": "code",
   "execution_count": null,
   "metadata": {
    "collapsed": true
   },
   "outputs": [],
   "source": [
    "sym.simplify(p_cos-q_sin)"
   ]
  },
  {
   "cell_type": "code",
   "execution_count": null,
   "metadata": {
    "collapsed": true
   },
   "outputs": [],
   "source": [
    "sym.simplify(p_sin-q_cos)"
   ]
  },
  {
   "cell_type": "markdown",
   "metadata": {
    "collapsed": true
   },
   "source": [
    "### 012, abc, dq0, etc."
   ]
  },
  {
   "cell_type": "code",
   "execution_count": null,
   "metadata": {
    "collapsed": true
   },
   "outputs": [],
   "source": [
    "theta = np.deg2rad(0.0)\n",
    "delta = np.deg2rad(0.0)\n",
    "V_z =  0.0*np.exp(1j*0.0)\n",
    "V_p = 400.0/np.sqrt(3)*np.exp(1j*theta)\n",
    "V_n = 50.0*np.exp(1j*0.0)\n",
    "\n",
    "E_z =  0.0*np.exp(1j*0.0)\n",
    "E_p = 420.0/np.sqrt(3)*np.exp(1j*(theta+delta))\n",
    "E_n =    0.0*np.exp(1j*0.0)\n",
    "\n",
    "\n",
    "V_012 = np.array([[V_z],[V_p],[V_n]])\n",
    "E_012 = np.array([[E_z],[E_p],[E_n]])\n",
    "\n",
    "V_abc = A_0a @ V_012\n",
    "E_abc = A_0a @ E_012\n",
    "\n",
    "L = 200.0e-6\n",
    "R = 0.01\n",
    "Omega = 2*np.pi*50.0"
   ]
  },
  {
   "cell_type": "markdown",
   "metadata": {
    "collapsed": true
   },
   "source": [
    "### Current with dq"
   ]
  },
  {
   "cell_type": "code",
   "execution_count": null,
   "metadata": {
    "collapsed": true
   },
   "outputs": [],
   "source": [
    "from sympy.functions import re,im\n",
    "\n",
    "v_d_p,v_q_p,v_d_n,v_q_n = sym.symbols('v_d_p,v_q_p,v_d_n,v_q_n',real=True)\n",
    "i_d_p,i_q_p,i_d_n,i_q_n = sym.symbols('i_d_p,i_q_p,i_d_n,i_q_n',real=True)\n",
    "e_d_p,e_q_p,e_d_n,e_q_n = sym.symbols('e_d_p,e_q_p,e_d_n,e_q_n',real=True)\n",
    "R,L,Omega= sym.symbols('R,L,Omega',real=True)\n",
    "\n",
    "di_d_p = 1.0/L*(e_d_p - R*i_d_p + L*Omega*i_q_p - v_d_p)\n",
    "di_q_p = 1.0/L*(e_q_p - R*i_q_p - L*Omega*i_d_p - v_q_p)\n",
    "di_d_n = 1.0/L*(e_d_n - R*i_d_n + L*Omega*i_q_n - v_d_n)\n",
    "di_q_n = 1.0/L*(e_q_n - R*i_q_n - L*Omega*i_d_n - v_q_n)\n",
    "\n",
    "sol = sym.solve([di_d_p,di_q_p,di_d_n,di_q_n],[i_d_p,i_q_p,i_d_n,i_q_n])\n",
    "\n",
    "for item in [i_d_p,i_q_p,i_d_n,i_q_n]:\n",
    "    print('{:s} = {:s}'.format(str(item) ,str(sym.simplify(sol[item]))))"
   ]
  },
  {
   "cell_type": "code",
   "execution_count": null,
   "metadata": {
    "collapsed": true
   },
   "outputs": [],
   "source": [
    "# Park:\n",
    "theta_pll = 0.0\n",
    "\n",
    "v_dq_z = V_z*np.exp( 1j*theta_pll)*np.sqrt(2)\n",
    "v_dq_p = V_p*np.exp( 1j*theta_pll)*np.sqrt(2)\n",
    "v_dq_n = V_n*np.exp( 1j*theta_pll)*np.sqrt(2)\n",
    "\n",
    "v_d_z = v_dq_z.real\n",
    "v_q_z = v_dq_z.imag\n",
    "v_d_p = v_dq_p.real\n",
    "v_q_p = v_dq_p.imag\n",
    "v_d_n = v_dq_n.real\n",
    "v_q_n = v_dq_n.imag\n",
    "\n",
    "e_dq_z = E_z*np.exp( 1j*theta_pll)*np.sqrt(2)\n",
    "e_dq_p = E_p*np.exp( 1j*theta_pll)*np.sqrt(2)\n",
    "e_dq_n = E_n*np.exp( 1j*theta_pll)*np.sqrt(2)\n",
    "\n",
    "e_d_z = e_dq_z.real\n",
    "e_q_z = e_dq_z.imag\n",
    "e_d_p = e_dq_p.real\n",
    "e_q_p = e_dq_p.imag\n",
    "e_d_n = e_dq_n.real\n",
    "e_q_n = e_dq_n.imag\n",
    "\n",
    "\n",
    "i_d_p = (L*Omega*e_q_p - L*Omega*v_q_p + R*e_d_p - R*v_d_p)/(L**2*Omega**2 + R**2)\n",
    "i_q_p = (-L*Omega*e_d_p + L*Omega*v_d_p + R*e_q_p - R*v_q_p)/(L**2*Omega**2 + R**2)\n",
    "i_d_n = (-L*Omega*e_q_n + L*Omega*v_q_n + R*e_d_n - R*v_d_n)/(L**2*Omega**2 + R**2)\n",
    "i_q_n = (L*Omega*e_d_n - L*Omega*v_d_n + R*e_q_n - R*v_q_n)/(L**2*Omega**2 + R**2)\n",
    "\n",
    "i_d_p = (-L*Omega*e_q_p + L*Omega*v_q_p + R*e_d_p - R*v_d_p)/(L**2*Omega**2 + R**2)\n",
    "i_q_p = (L*Omega*e_d_p - L*Omega*v_d_p + R*e_q_p - R*v_q_p)/(L**2*Omega**2 + R**2)\n",
    "i_d_n = (L*Omega*e_q_n - L*Omega*v_q_n + R*e_d_n - R*v_d_n)/(L**2*Omega**2 + R**2)\n",
    "i_q_n = (-L*Omega*e_d_n + L*Omega*v_d_n + R*e_q_n - R*v_q_n)/(L**2*Omega**2 + R**2)\n",
    "\n",
    "i_d_p = (L*Omega*e_q_p - L*Omega*v_q_p + R*e_d_p - R*v_d_p)/(L**2*Omega**2 + R**2)\n",
    "i_q_p = (-L*Omega*e_d_p + L*Omega*v_d_p + R*e_q_p - R*v_q_p)/(L**2*Omega**2 + R**2)\n",
    "i_d_n = (L*Omega*e_q_n - L*Omega*v_q_n + R*e_d_n - R*v_d_n)/(L**2*Omega**2 + R**2)\n",
    "i_q_n = (-L*Omega*e_d_n + L*Omega*v_d_n + R*e_q_n - R*v_q_n)/(L**2*Omega**2 + R**2)\n",
    "\n",
    "i_z = 0.0\n",
    "i_p = i_d_p + 1j*i_q_p\n",
    "i_n = i_d_n + 1j*i_q_n\n",
    "\n",
    "I_abc = A_0a @ np.array([i_z,i_p,i_n]).reshape(3,1)/np.sqrt(2) \n",
    "I_abc\n"
   ]
  },
  {
   "cell_type": "markdown",
   "metadata": {
    "collapsed": true
   },
   "source": [
    "## Current with abc and primitive"
   ]
  },
  {
   "cell_type": "code",
   "execution_count": null,
   "metadata": {
    "collapsed": true
   },
   "outputs": [],
   "source": [
    "Z_1 = R + 1j*Omega*L\n",
    "Z_0 = 1.0e6\n",
    "Z_2 = Z_1\n",
    "\n",
    "Z_012 = np.diag([Z_0,Z_1,Z_2])\n",
    "Z_abc = A_0a @ Z_012 @ A_a0\n",
    "\n",
    "I_abc = np.linalg.solve(Z_abc,E_abc-V_abc)\n",
    "I_abc"
   ]
  },
  {
   "cell_type": "markdown",
   "metadata": {},
   "source": [
    "## Current with 012 and sequence impedances"
   ]
  },
  {
   "cell_type": "code",
   "execution_count": null,
   "metadata": {
    "collapsed": true
   },
   "outputs": [],
   "source": [
    "I_z = (E_z - V_z)/Z_0\n",
    "I_p = (E_p - V_p)/Z_1\n",
    "I_n = (E_n - V_n)/Z_2\n",
    "\n",
    "I_abc = A_0a @ np.array([I_z,I_p,I_n]).reshape(3,1) \n",
    "I_abc"
   ]
  },
  {
   "cell_type": "markdown",
   "metadata": {},
   "source": [
    "## Powers"
   ]
  },
  {
   "cell_type": "code",
   "execution_count": null,
   "metadata": {
    "collapsed": true
   },
   "outputs": [],
   "source": [
    "V_abc.T @ np.conj(I_abc)"
   ]
  },
  {
   "cell_type": "code",
   "execution_count": null,
   "metadata": {
    "collapsed": true
   },
   "outputs": [],
   "source": [
    "t = np.linspace(0.0,0.04,200)\n",
    "\n",
    "v_abc = np.real(V_abc*np.exp(1j*Omega*t))*np.sqrt(2)\n",
    "i_abc = np.real(I_abc*np.exp(1j*Omega*t))*np.sqrt(2)\n",
    "\n",
    "p = np.sum(v_abc*i_abc,axis=0)\n",
    "q = -((v_abc[1]- v_abc[2]) * i_abc[0] + (v_abc[2]- v_abc[0]) * i_abc[1]  + (v_abc[0]- v_abc[1]) * i_abc[2] )/np.sqrt(3)\n",
    "q = -((v_abc[2]- v_abc[1]) * i_abc[0] + (v_abc[0]- v_abc[2]) * i_abc[1]  + (v_abc[1]- v_abc[0]) * i_abc[2] )/np.sqrt(3)\n",
    "\n",
    "#q = (i_a*(v_c-v_b) + i_b*(v_a-v_c) + i_c*(v_b-v_a))/np.sqrt(3)\n",
    "P = np.sum(p)/200\n",
    "Q = np.sum(q)/200\n",
    "\n",
    "print('S = ',P+1j*Q)"
   ]
  },
  {
   "cell_type": "code",
   "execution_count": null,
   "metadata": {
    "collapsed": true
   },
   "outputs": [],
   "source": [
    "fig, axes = plt.subplots(nrows=3, ncols=1, figsize=(8, 6), sharex = True)\n",
    "\n",
    "axes[0].plot(t, v_abc[0,:])\n",
    "axes[0].plot(t, v_abc[1,:])\n",
    "axes[0].plot(t, v_abc[2,:])\n",
    "\n",
    "axes[1].plot(t, i_abc[0,:])\n",
    "axes[1].plot(t, i_abc[1,:])\n",
    "axes[1].plot(t, i_abc[2,:])\n",
    "\n",
    "axes[2].plot(t, p/1000)\n",
    "axes[2].plot(t, q/1000)"
   ]
  },
  {
   "cell_type": "markdown",
   "metadata": {},
   "source": [
    "A_0a @ V_012 = Z_abc @ A_0a @ I_012\n",
    "A_0a @ V_012 = Z_abc @ A_0a @ I_012\n",
    "V_012 = A_a0 @ Z_abc @ A_0a @ I_012\n",
    "Z_012 = A_a0 @ Z_abc @ A_0a\n"
   ]
  },
  {
   "cell_type": "code",
   "execution_count": null,
   "metadata": {
    "collapsed": true
   },
   "outputs": [],
   "source": [
    "p_cte_ref = 1.5*i_d_n*v_d_n + 1.5*i_d_p*v_d_p + 1.5*i_q_n*v_q_n + 1.5*i_q_p*v_q_p\n",
    "p_cos_ref = 1.5*i_d_n*v_d_p + 1.5*i_d_p*v_d_n + 1.5*i_q_n*v_q_p + 1.5*i_q_p*v_q_n\n",
    "p_sin_ref =-1.5*i_d_n*v_q_p + 1.5*i_d_p*v_q_n + 1.5*i_q_n*v_d_p - 1.5*i_q_p*v_d_n\n",
    "q_cte_ref = 1.5*i_d_n*v_q_n + 1.5*i_d_p*v_q_p - 1.5*i_q_n*v_d_n - 1.5*i_q_p*v_d_p\n",
    "q_cos_ref = 1.5*i_d_n*v_q_p + 1.5*i_d_p*v_q_n - 1.5*i_q_n*v_d_p - 1.5*i_q_p*v_d_n\n",
    "q_sin_ref = 1.5*i_d_n*v_d_p - 1.5*i_d_p*v_d_n + 1.5*i_q_n*v_q_p - 1.5*i_q_p*v_q_n\n",
    "p_cte_ref"
   ]
  },
  {
   "cell_type": "code",
   "execution_count": null,
   "metadata": {
    "collapsed": true
   },
   "outputs": [],
   "source": [
    "p_cos_ref"
   ]
  },
  {
   "cell_type": "code",
   "execution_count": null,
   "metadata": {
    "collapsed": true
   },
   "outputs": [],
   "source": [
    "p_sin_ref"
   ]
  },
  {
   "cell_type": "code",
   "execution_count": null,
   "metadata": {
    "collapsed": true
   },
   "outputs": [],
   "source": [
    "q_cte_ref"
   ]
  },
  {
   "cell_type": "code",
   "execution_count": null,
   "metadata": {
    "collapsed": true
   },
   "outputs": [],
   "source": []
  },
  {
   "cell_type": "code",
   "execution_count": null,
   "metadata": {
    "collapsed": true
   },
   "outputs": [],
   "source": []
  }
 ],
 "metadata": {
  "anaconda-cloud": {},
  "kernelspec": {
   "display_name": "Python 3",
   "language": "python",
   "name": "python3"
  },
  "language_info": {
   "codemirror_mode": {
    "name": "ipython",
    "version": 3
   },
   "file_extension": ".py",
   "mimetype": "text/x-python",
   "name": "python",
   "nbconvert_exporter": "python",
   "pygments_lexer": "ipython3",
   "version": "3.6.2"
  }
 },
 "nbformat": 4,
 "nbformat_minor": 1
}
