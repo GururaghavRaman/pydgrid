{
 "cells": [
  {
   "cell_type": "code",
   "execution_count": 7,
   "metadata": {},
   "outputs": [],
   "source": [
    "import numpy as np"
   ]
  },
  {
   "cell_type": "code",
   "execution_count": null,
   "metadata": {},
   "outputs": [],
   "source": []
  },
  {
   "cell_type": "code",
   "execution_count": 26,
   "metadata": {},
   "outputs": [],
   "source": [
    "Z_abc =  np.array([\n",
    "[0.8667 + 2.0417j, 0.2955 + 0.9502j, 0.2907 + 0.7290j],\n",
    "[0.2955 + 0.9502j, 0.8837 + 1.9852j, 0.2992 + 0.8023j],\n",
    "[0.2907 + 0.7290j, 0.2992 + 0.8023j, 0.8741 + 2.0172j]\n",
    "])\n",
    "\n",
    "Y_abc =  np.array([\n",
    "[ 10.7409j, -3.4777j, -1.3322j],\n",
    "[ -3.4777j, 11.3208j, -2.2140j],\n",
    "[ -1.3322j, -2.2140j, 10.2104j]\n",
    "])*1.0e-6\n",
    "\n",
    "U = np.eye(3)\n"
   ]
  },
  {
   "cell_type": "code",
   "execution_count": 27,
   "metadata": {},
   "outputs": [],
   "source": [
    "a = U + 0.5 * Z_abc @ Y_abc\n",
    "b = Z_abc\n",
    "c = Y_abc + 0.25 * Y_abc @ Z_abc @ Y_abc\n",
    "d = U + 0.5 * Z_abc @ Y_abc"
   ]
  },
  {
   "cell_type": "code",
   "execution_count": 28,
   "metadata": {},
   "outputs": [
    {
     "data": {
      "text/plain": [
       "array([[ -2.11511936e-11 +1.07408553e-05j,\n",
       "          8.21431015e-12 -3.47768967e-06j,\n",
       "          1.22583662e-13 -1.33219889e-06j],\n",
       "       [  8.21431015e-12 -3.47768967e-06j,\n",
       "         -2.35581400e-11 +1.13207537e-05j,\n",
       "          3.37220770e-12 -2.21399501e-06j],\n",
       "       [  1.22583662e-13 -1.33219889e-06j,\n",
       "          3.37220770e-12 -2.21399501e-06j,\n",
       "         -1.93260638e-11 +1.02103567e-05j]])"
      ]
     },
     "execution_count": 28,
     "metadata": {},
     "output_type": "execute_result"
    }
   ],
   "source": [
    "c"
   ]
  },
  {
   "cell_type": "code",
   "execution_count": null,
   "metadata": {},
   "outputs": [],
   "source": []
  },
  {
   "cell_type": "code",
   "execution_count": null,
   "metadata": {},
   "outputs": [],
   "source": []
  }
 ],
 "metadata": {
  "anaconda-cloud": {},
  "kernelspec": {
   "display_name": "Python [default]",
   "language": "python",
   "name": "python3"
  },
  "language_info": {
   "codemirror_mode": {
    "name": "ipython",
    "version": 3
   },
   "file_extension": ".py",
   "mimetype": "text/x-python",
   "name": "python",
   "nbconvert_exporter": "python",
   "pygments_lexer": "ipython3",
   "version": "3.5.2"
  }
 },
 "nbformat": 4,
 "nbformat_minor": 2
}
