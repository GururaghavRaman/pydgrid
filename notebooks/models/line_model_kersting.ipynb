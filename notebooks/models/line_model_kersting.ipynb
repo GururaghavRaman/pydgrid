{
 "cells": [
  {
   "cell_type": "code",
   "execution_count": 2,
   "metadata": {
    "collapsed": true
   },
   "outputs": [],
   "source": [
    "import numpy as np"
   ]
  },
  {
   "cell_type": "markdown",
   "metadata": {
    "collapsed": true
   },
   "source": [
    "## Example 6.1 from Kersting book"
   ]
  },
  {
   "cell_type": "code",
   "execution_count": 284,
   "metadata": {
    "collapsed": true
   },
   "outputs": [],
   "source": [
    "Z_abc =  np.array([\n",
    "[0.8667 + 2.0417j, 0.2955 + 0.9502j, 0.2907 + 0.7290j],\n",
    "[0.2955 + 0.9502j, 0.8837 + 1.9852j, 0.2992 + 0.8023j],\n",
    "[0.2907 + 0.7290j, 0.2992 + 0.8023j, 0.8741 + 2.0172j]\n",
    "]) # Ohm\n",
    "\n",
    "Y_abc =  np.array([\n",
    "[ 10.7409j, -3.4777j, -1.3322j],\n",
    "[ -3.4777j, 11.3208j, -2.2140j],\n",
    "[ -1.3322j, -2.2140j, 10.2104j]\n",
    "])*1.0e-6 # S"
   ]
  },
  {
   "cell_type": "markdown",
   "metadata": {},
   "source": [
    "### Incidence matrix"
   ]
  },
  {
   "cell_type": "code",
   "execution_count": 285,
   "metadata": {
    "collapsed": true
   },
   "outputs": [],
   "source": [
    "A = np.zeros(([6,9]),dtype=np.float64)\n",
    "A[0,0] =  1\n",
    "A[3,0] = -1\n",
    "A[1,1] =  1\n",
    "A[4,1] = -1\n",
    "A[2,2] =  1\n",
    "A[5,2] = -1\n",
    "A[0,3] =  1\n",
    "A[1,4] =  1\n",
    "A[2,5] =  1\n",
    "A[3,6] =  1\n",
    "A[4,7] =  1\n",
    "A[5,8] =  1"
   ]
  },
  {
   "cell_type": "code",
   "execution_count": 286,
   "metadata": {
    "collapsed": true
   },
   "outputs": [],
   "source": [
    "def diag_2d(Y_prim_list):\n",
    "\n",
    "    N_cols = 0\n",
    "\n",
    "    for Y_prim in Y_prim_list:\n",
    "        N_cols += Y_prim.shape[1]\n",
    "\n",
    "    Y_prims = np.zeros((N_cols,N_cols),dtype=np.complex128)\n",
    "\n",
    "    it = 0\n",
    "    for Y_prim in Y_prim_list:\n",
    "        N = Y_prim.shape[0] \n",
    "        Y_prims[it:(it+N),it:(it+N)] = Y_prim\n",
    "        it += N\n",
    "\n",
    "    return Y_prims"
   ]
  },
  {
   "cell_type": "markdown",
   "metadata": {},
   "source": [
    "### Primitive matrix"
   ]
  },
  {
   "cell_type": "code",
   "execution_count": 287,
   "metadata": {
    "collapsed": true
   },
   "outputs": [],
   "source": [
    "Y_prim_list = [np.linalg.inv(Z_abc),Y_abc/2,Y_abc/2]\n",
    "Y_prim = diag_2d(Y_prim_list)"
   ]
  },
  {
   "cell_type": "markdown",
   "metadata": {},
   "source": [
    "### Bus matrix"
   ]
  },
  {
   "cell_type": "code",
   "execution_count": 288,
   "metadata": {
    "collapsed": true
   },
   "outputs": [],
   "source": [
    "Y_bus = A @ Y_prim @ A.T"
   ]
  },
  {
   "cell_type": "markdown",
   "metadata": {},
   "source": [
    "### Solution"
   ]
  },
  {
   "cell_type": "code",
   "execution_count": 290,
   "metadata": {},
   "outputs": [
    {
     "name": "stdout",
     "output_type": "stream",
     "text": [
      "V_a = 7.53869|1.57248º kV\n",
      "V_b = 7.45125|-118.30047º kV\n",
      "V_c = 7.48512|121.93184º kV\n",
      "V_avg = 7491.68 V\n",
      "U = 12.9760 kV\n"
     ]
    }
   ],
   "source": [
    "V_unknown = np.linalg.solve(Y_ii, I_known - Y_iv @ V_known)\n",
    "\n",
    "Y_ii = Y_bus[3:6,3:6]\n",
    "Y_iv = Y_bus[0:3,3:6]\n",
    "phi = -np.arccos(0.9)\n",
    "I_known = -277.79*np.array([1,alpha**2,alpha]).reshape(3,1)*np.exp(1j*phi)\n",
    "V_known = 12470/np.sqrt(3)*np.array([1,alpha**2,alpha]).reshape(3,1)\n",
    "V_known_end = np.copy(V_known)\n",
    "\n",
    "for it in range(10):\n",
    "    V_unknown = np.linalg.solve(Y_ii, I_known - Y_iv @ V_known)\n",
    "    DU = V_known - V_unknown\n",
    "    V_known = V_known_end + DU\n",
    "\n",
    "Phases = ['a','b','c']\n",
    "for ph,v in zip(Phases,V_known[:,0]):\n",
    "    print('V_{:s} = {:2.5f}|{:2.5f}º kV'.format(ph,abs(v)/1000,np.angle(v,deg=True)))\n",
    "V_avg = np.sum(abs(V_known))/3\n",
    "print('V_avg = {:2.2f} V'.format(V_avg))\n",
    "U = V_avg*np.sqrt(3)\n",
    "print('U = {:2.4f} kV'.format(U/1000))"
   ]
  },
  {
   "cell_type": "markdown",
   "metadata": {},
   "source": [
    "## Transposed case"
   ]
  },
  {
   "cell_type": "code",
   "execution_count": 233,
   "metadata": {
    "collapsed": true
   },
   "outputs": [],
   "source": [
    "def transpose(Z_abc):\n",
    "    '''\n",
    "    Kersting pg. 91\n",
    "    '''\n",
    "    Z_abc_transpose = np.zeros((3,3),dtype=np.complex128)\n",
    "    Z_s = np.average(Z_abc.diagonal())\n",
    "    Z_abc_transpose[0,0] = Z_s\n",
    "    Z_abc_transpose[1,1] = Z_s    \n",
    "    Z_abc_transpose[2,2] = Z_s\n",
    "    \n",
    "    N_off_diagonal = 0\n",
    "    Z_m_sum = 0.0+0j\n",
    "    for irow in range(3):\n",
    "        for icol in range(3):\n",
    "            if irow!=icol:\n",
    "                Z_m_sum += Z_abc[irow,icol]\n",
    "                N_off_diagonal += 1\n",
    "                \n",
    "    Z_m = Z_m_sum/N_off_diagonal\n",
    "\n",
    "    for irow in range(3):\n",
    "        for icol in range(3):\n",
    "            if irow!=icol:\n",
    "                Z_abc_transpose[irow,icol] = Z_m\n",
    "                \n",
    "    return Z_abc_transpose"
   ]
  },
  {
   "cell_type": "code",
   "execution_count": 243,
   "metadata": {},
   "outputs": [],
   "source": [
    "Z_abc_transposed = transpose(Z_abc)\n",
    "Y_abc_transposed = transpose(Y_abc)"
   ]
  },
  {
   "cell_type": "markdown",
   "metadata": {},
   "source": [
    "### Primitive matrix"
   ]
  },
  {
   "cell_type": "code",
   "execution_count": 244,
   "metadata": {},
   "outputs": [],
   "source": [
    "Y_prim_list = [np.linalg.inv(Z_abc_transposed),Y_abc_transposed/2,Y_abc_transposed/2]\n",
    "Y_prim_transposed = diag_2d(Y_prim_list)"
   ]
  },
  {
   "cell_type": "markdown",
   "metadata": {},
   "source": [
    "### Bus matrix"
   ]
  },
  {
   "cell_type": "code",
   "execution_count": 245,
   "metadata": {
    "collapsed": true
   },
   "outputs": [],
   "source": [
    "Y_bus_transposed = A @ Y_prim_transposed @ A.T"
   ]
  },
  {
   "cell_type": "markdown",
   "metadata": {},
   "source": [
    "### Solution"
   ]
  },
  {
   "cell_type": "code",
   "execution_count": 266,
   "metadata": {},
   "outputs": [
    {
     "name": "stdout",
     "output_type": "stream",
     "text": [
      "V_a_n = 7491.66|1.73º V\n",
      "V_b_n = 7491.66|-118.27º V\n",
      "V_c_n = 7491.66|121.73º V\n",
      "V_a_m = 7199.56|0.00º V\n",
      "V_b_m = 7199.56|-120.00º V\n",
      "V_c_m = 7199.56|120.00º V\n"
     ]
    }
   ],
   "source": [
    "Y_ii = Y_bus_transpose[3:6,3:6]\n",
    "Y_iv = Y_bus_transpose[0:3,3:6]\n",
    "phi = -np.arccos(0.9)\n",
    "I_known = -277.79*np.array([1,alpha**2,alpha]).reshape(3,1)*np.exp(1j*phi)\n",
    "V_known = 12470/np.sqrt(3)*np.array([1,alpha**2,alpha]).reshape(3,1)\n",
    "V_known_end = np.copy(V_known)\n",
    "\n",
    "for it in range(10):\n",
    "    V_unknown = np.linalg.solve(Y_ii, I_known - Y_iv @ V_known)\n",
    "    DU = V_known - V_unknown\n",
    "    V_known = V_known_end + DU\n",
    "\n",
    "Phases = ['a','b','c']\n",
    "for ph,v in zip(Phases,V_known[:,0]):\n",
    "    print('V_{:s}_n = {:2.2f}|{:2.2f}º V'.format(ph,abs(v),np.angle(v,deg=True)))\n",
    "\n",
    "for ph,v in zip(Phases,V_unknown[:,0]):\n",
    "    print('V_{:s}_m = {:2.2f}|{:2.2f}º V'.format(ph,abs(v),np.angle(v,deg=True)))\n"
   ]
  },
  {
   "cell_type": "markdown",
   "metadata": {},
   "source": [
    "## Sequence impedances and solution in opendss"
   ]
  },
  {
   "cell_type": "code",
   "execution_count": 247,
   "metadata": {
    "collapsed": true
   },
   "outputs": [],
   "source": [
    "alpha = np.exp(1j*2/3*np.pi)\n",
    "A_s = np.array([[1,    1,      1],\n",
    "                [1,alpha**2,alpha],\n",
    "                [1,alpha,alpha**2]])\n"
   ]
  },
  {
   "cell_type": "code",
   "execution_count": 257,
   "metadata": {
    "collapsed": true
   },
   "outputs": [],
   "source": [
    "Z_012 = np.linalg.inv(A_s) @ Z_abc_transposed @ A_s\n",
    "Y_012 = np.linalg.inv(A_s) @ Y_abc_transposed @ A_s"
   ]
  },
  {
   "cell_type": "code",
   "execution_count": 268,
   "metadata": {
    "collapsed": true
   },
   "outputs": [],
   "source": [
    "R_0 = Z_012[0,0].real\n",
    "R_1 = Z_012[1,1].real\n",
    "X_0 = Z_012[0,0].imag\n",
    "X_1 = Z_012[1,1].imag\n",
    "\n",
    "Omega = 2.0*np.pi*60\n",
    "B_0 = Y_012[0,0].imag\n",
    "B_1 = Y_012[1,1].imag\n",
    "C_0 = B_0/Omega\n",
    "C_1 = B_1/Omega\n",
    "C_0_nF = C_0*1e9\n",
    "C_1_nF = C_1*1e9"
   ]
  },
  {
   "cell_type": "code",
   "execution_count": 269,
   "metadata": {},
   "outputs": [
    {
     "data": {
      "text/plain": [
       "3.4745292465217327e-08"
      ]
     },
     "execution_count": 269,
     "metadata": {},
     "output_type": "execute_result"
    }
   ],
   "source": [
    "C_1"
   ]
  },
  {
   "cell_type": "code",
   "execution_count": 270,
   "metadata": {
    "collapsed": true
   },
   "outputs": [],
   "source": [
    "string = ''\n",
    "string += ('X1 = {:2.3f}  '.format(X_1))\n",
    "string += ('X0 = {:2.3f}  '.format(X_0))\n",
    "string += ('R1 = {:2.3f}  '.format(R_1))\n",
    "string += ('R0 = {:2.3f}  '.format(R_0))\n",
    "string += ('C1 = {:2.3f}  '.format(C_1_nF))\n",
    "string += ('C0 = {:2.3f}  '.format(C_0_nF))"
   ]
  },
  {
   "cell_type": "code",
   "execution_count": 271,
   "metadata": {},
   "outputs": [
    {
     "data": {
      "text/plain": [
       "'X1 = 1.188  X0 = 3.669  R1 = 0.580  R0 = 1.465  C1 = 34.745  C0 = 16.114  '"
      ]
     },
     "execution_count": 271,
     "metadata": {},
     "output_type": "execute_result"
    }
   ],
   "source": [
    "string"
   ]
  },
  {
   "cell_type": "code",
   "execution_count": 282,
   "metadata": {},
   "outputs": [
    {
     "name": "stdout",
     "output_type": "stream",
     "text": [
      "[[ 0.25691729 -0.12478409 -0.04504326 -0.25691729  0.12478409  0.04504326]\n",
      " [-0.12478409  0.28730429 -0.07646596  0.12478409 -0.28730429  0.07646596]\n",
      " [-0.04504326 -0.07646596  0.23085184  0.04504326  0.07646596 -0.23085184]\n",
      " [-0.25691729  0.12478409  0.04504326  0.25691729 -0.12478409 -0.04504326]\n",
      " [ 0.12478409 -0.28730429  0.07646596 -0.12478409  0.28730429 -0.07646596]\n",
      " [ 0.04504326  0.07646596 -0.23085184 -0.04504326 -0.07646596  0.23085184]]\n"
     ]
    }
   ],
   "source": [
    "print(Y_bus.real)"
   ]
  },
  {
   "cell_type": "code",
   "execution_count": 283,
   "metadata": {},
   "outputs": [
    {
     "name": "stdout",
     "output_type": "stream",
     "text": [
      "[[-0.53272198  0.1828866   0.11878035  0.53272735 -0.18288834 -0.11878101]\n",
      " [ 0.1828866  -0.55205704  0.14497317 -0.18288834  0.5520627  -0.14497428]\n",
      " [ 0.11878035  0.14497317 -0.5141181  -0.11878101 -0.14497428  0.5141232 ]\n",
      " [ 0.53272735 -0.18288834 -0.11878101 -0.53272198  0.1828866   0.11878035]\n",
      " [-0.18288834  0.5520627  -0.14497428  0.1828866  -0.55205704  0.14497317]\n",
      " [-0.11878101 -0.14497428  0.5141232   0.11878035  0.14497317 -0.5141181 ]]\n"
     ]
    }
   ],
   "source": [
    "print(Y_bus.imag)"
   ]
  },
  {
   "cell_type": "markdown",
   "metadata": {},
   "source": [
    "### OpenDSS"
   ]
  },
  {
   "cell_type": "markdown",
   "metadata": {},
   "source": [
    "Yprim of active circuit element: Line.1-2\n",
    "\n",
    "\n",
    "G matrix (conductance), S\n",
    "\n",
    " 0.2525253908 \n",
    "-0.07933099092  0.2525253908 \n",
    "-0.07933099092 -0.07933099092  0.2525253908 \n",
    "-0.2525253908 0.07933099092 0.07933099092  0.2525253908 \n",
    "0.07933099092 -0.2525253908 0.07933099092 -0.07933099092  0.2525253908 \n",
    "0.07933099092 0.07933099092 -0.2525253908 -0.07933099092 -0.07933099092  0.2525253908 \n",
    "\n",
    "jB matrix (Susceptance), S\n",
    "\n",
    "-0.5315085593 \n",
    " 0.1482183078 -0.5315085593 \n",
    " 0.1482183078  0.1482183078 -0.5315085593 \n",
    " 0.5315139379 -0.1482194784 -0.1482194784 -0.5315085593 \n",
    "-0.1482194784  0.5315139379 -0.1482194784  0.1482183078 -0.5315085593 \n",
    "-0.1482194784 -0.1482194784  0.5315139379  0.1482183078  0.1482183078 -0.5315085593 \n"
   ]
  },
  {
   "cell_type": "code",
   "execution_count": 272,
   "metadata": {
    "collapsed": true
   },
   "outputs": [],
   "source": [
    "C_km = 20000000e-12 \n",
    "Long = 100 # km\n",
    "C = C_km*Long\n",
    "Omega = 2.0*np.pi*50\n",
    "X_c = 1.0/(Omega*C)"
   ]
  },
  {
   "cell_type": "code",
   "execution_count": 111,
   "metadata": {},
   "outputs": [
    {
     "data": {
      "text/plain": [
       "110.11701339292212"
      ]
     },
     "execution_count": 111,
     "metadata": {},
     "output_type": "execute_result"
    }
   ],
   "source": [
    "3*241.7**2/X_c/1000"
   ]
  },
  {
   "cell_type": "code",
   "execution_count": 98,
   "metadata": {},
   "outputs": [
    {
     "data": {
      "text/plain": [
       "1.5915494309189535"
      ]
     },
     "execution_count": 98,
     "metadata": {},
     "output_type": "execute_result"
    }
   ],
   "source": [
    "X_c"
   ]
  },
  {
   "cell_type": "markdown",
   "metadata": {},
   "source": [
    "In opendss:\n",
    "https://sourceforge.net/p/electricdss/discussion/beginners/thread/7096e0bc/"
   ]
  },
  {
   "cell_type": "code",
   "execution_count": 120,
   "metadata": {},
   "outputs": [
    {
     "name": "stdout",
     "output_type": "stream",
     "text": [
      "Q = 62.832 kvar\n"
     ]
    }
   ],
   "source": [
    "U = 20.0e3\n",
    "C_km = 0.25e-6 \n",
    "Long = 2 # km\n",
    "C = C_km*Long\n",
    "Omega = 2.0*np.pi*50\n",
    "X_c = 1.0/(Omega*C)\n",
    "Q = 3*(U/np.sqrt(3))**2/X_c\n",
    "print('Q = {:2.3f} kvar'.format(Q/1000))"
   ]
  },
  {
   "cell_type": "code",
   "execution_count": 116,
   "metadata": {},
   "outputs": [
    {
     "data": {
      "text/plain": [
       "62831.853071795857"
      ]
     },
     "execution_count": 116,
     "metadata": {},
     "output_type": "execute_result"
    }
   ],
   "source": [
    "Q"
   ]
  },
  {
   "cell_type": "code",
   "execution_count": 121,
   "metadata": {
    "collapsed": true
   },
   "outputs": [],
   "source": [
    "R1 = 0.277\n",
    "R0 = 0.831  \n",
    "X1 = 0.118  \n",
    "X0 =0.354   \n",
    "C1=250    \n",
    "C0=750  \n",
    "Length=2.0 \n",
    "units='km'  \n",
    "baseFreq=50 "
   ]
  },
  {
   "cell_type": "code",
   "execution_count": 126,
   "metadata": {
    "collapsed": true
   },
   "outputs": [],
   "source": []
  },
  {
   "cell_type": "code",
   "execution_count": 127,
   "metadata": {
    "collapsed": true
   },
   "outputs": [],
   "source": []
  },
  {
   "cell_type": "code",
   "execution_count": 128,
   "metadata": {},
   "outputs": [
    {
     "data": {
      "text/plain": [
       "array([[ 1.,  0.,  0.,  1.,  0.,  0.,  0.,  0.,  0.],\n",
       "       [ 0.,  1.,  0.,  0.,  1.,  0.,  0.,  0.,  0.],\n",
       "       [ 0.,  0.,  1.,  0.,  0.,  1.,  0.,  0.,  0.],\n",
       "       [-1.,  0.,  0.,  0.,  0.,  0.,  1.,  0.,  0.],\n",
       "       [ 0., -1.,  0.,  0.,  0.,  0.,  0.,  1.,  0.],\n",
       "       [ 0.,  0., -1.,  0.,  0.,  0.,  0.,  0.,  1.]])"
      ]
     },
     "execution_count": 128,
     "metadata": {},
     "output_type": "execute_result"
    }
   ],
   "source": [
    "A"
   ]
  },
  {
   "cell_type": "code",
   "execution_count": 129,
   "metadata": {
    "collapsed": true
   },
   "outputs": [],
   "source": []
  },
  {
   "cell_type": "code",
   "execution_count": 161,
   "metadata": {
    "collapsed": true
   },
   "outputs": [],
   "source": []
  },
  {
   "cell_type": "code",
   "execution_count": 281,
   "metadata": {},
   "outputs": [
    {
     "data": {
      "text/plain": [
       "array([[ 0.-105767.55753017j,  0. -29423.9093217j ,  0. -29423.9093217j ],\n",
       "       [ 0. -29423.9093217j ,  0.-105767.55753017j,  0. -29423.9093217j ],\n",
       "       [ 0. -29423.9093217j ,  0. -29423.9093217j ,  0.-105767.55753017j]])"
      ]
     },
     "execution_count": 281,
     "metadata": {},
     "output_type": "execute_result"
    }
   ],
   "source": [
    "np.linalg.inv(Y_abc_transposed)"
   ]
  },
  {
   "cell_type": "code",
   "execution_count": 163,
   "metadata": {
    "collapsed": true
   },
   "outputs": [],
   "source": []
  },
  {
   "cell_type": "code",
   "execution_count": 164,
   "metadata": {
    "collapsed": true
   },
   "outputs": [],
   "source": []
  },
  {
   "cell_type": "code",
   "execution_count": 211,
   "metadata": {
    "collapsed": true
   },
   "outputs": [],
   "source": []
  },
  {
   "cell_type": "code",
   "execution_count": 217,
   "metadata": {},
   "outputs": [
    {
     "name": "stdout",
     "output_type": "stream",
     "text": [
      "[[ 7538.69069037]\n",
      " [ 7451.24613542]\n",
      " [ 7485.11694409]]\n",
      "[[ 7199.55785679]\n",
      " [ 7199.55785679]\n",
      " [ 7199.55785679]]\n",
      "[[  1.02284455e-14]\n",
      " [ -1.20000000e+02]\n",
      " [  1.20000000e+02]]\n"
     ]
    }
   ],
   "source": []
  },
  {
   "cell_type": "code",
   "execution_count": 213,
   "metadata": {},
   "outputs": [
    {
     "data": {
      "text/plain": [
       "array([[ 12470.],\n",
       "       [ 12470.],\n",
       "       [ 12470.]])"
      ]
     },
     "execution_count": 213,
     "metadata": {},
     "output_type": "execute_result"
    }
   ],
   "source": [
    "np.abs(V_unknown)*np.sqrt(3)"
   ]
  },
  {
   "cell_type": "code",
   "execution_count": 216,
   "metadata": {},
   "outputs": [
    {
     "data": {
      "text/plain": [
       "array([[ -25.84193276],\n",
       "       [-145.84193276],\n",
       "       [  94.15806724]])"
      ]
     },
     "execution_count": 216,
     "metadata": {},
     "output_type": "execute_result"
    }
   ],
   "source": [
    "np.angle(-I_known,deg=True)"
   ]
  },
  {
   "cell_type": "code",
   "execution_count": 146,
   "metadata": {},
   "outputs": [
    {
     "data": {
      "text/plain": [
       "array([[ 0.+0.j,  0.+0.j,  0.+0.j],\n",
       "       [ 0.+0.j,  0.+0.j,  0.+0.j],\n",
       "       [ 0.+0.j,  0.+0.j,  0.+0.j]])"
      ]
     },
     "execution_count": 146,
     "metadata": {},
     "output_type": "execute_result"
    }
   ],
   "source": [
    "I_known"
   ]
  },
  {
   "cell_type": "code",
   "execution_count": null,
   "metadata": {
    "collapsed": true
   },
   "outputs": [],
   "source": []
  }
 ],
 "metadata": {
  "anaconda-cloud": {},
  "kernelspec": {
   "display_name": "Python 3",
   "language": "python",
   "name": "python3"
  },
  "language_info": {
   "codemirror_mode": {
    "name": "ipython",
    "version": 3
   },
   "file_extension": ".py",
   "mimetype": "text/x-python",
   "name": "python",
   "nbconvert_exporter": "python",
   "pygments_lexer": "ipython3",
   "version": "3.6.2"
  }
 },
 "nbformat": 4,
 "nbformat_minor": 2
}
